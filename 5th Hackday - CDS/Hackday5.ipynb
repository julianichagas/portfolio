{
 "cells": [
  {
   "cell_type": "markdown",
   "id": "e053178c",
   "metadata": {},
   "source": [
    "# Problema de Negócio"
   ]
  },
  {
   "cell_type": "markdown",
   "id": "1fc6a209",
   "metadata": {},
   "source": [
    "A InStyle é uma das maiores lojas de roupas dos Estados Unidos que passa por problemas de customer experience ou experiência do cliente.\n",
    "\n",
    "O grande desafio de escalar o faturamento de uma loja é manter a qualidade do produto e a taxa de satisfação do cliente em alta.\n",
    "\n",
    "À medida que a empresa alcance mais clientes, os processos internos de vendas que começa com a concepção do produto, passam pela divulgação do marketing e chegam até os sistemas de pagamento do financeiro começam a apresentar problemas.\n",
    "\n",
    "O time de produtos tem dificuldade em determinar a necessidade da maioria dos clientes. O time de marketing enfrente desafios para determinar o cliente ideal e o time de desenvolvimento sofre com os grandes volumes de acessos no site e em seu aplicativo, causando quedas de sistema e tornando o site inoperante por algumas horas, impedindo as pessoas de comprar e assim, gerando muitas reclamações no atendimento, liderado pelo time de customer experience.\n",
    "\n",
    "Portanto, a medição da satisfação dos clientes é extremamente importante para a empresa manter a boa reputação no mercado.\n",
    "\n",
    "Um time interdisciplinar chamado de “War Room”, formado por profissionais de Produto, Marketing, Design, Dados e Desenvolvimento foi montado para garantir uma ótima experiência de compra ao cliente e uma alta taxa de satisfação, mesmo com o crescimento rápido do volume de vendas.\n",
    "\n",
    "Uma das primeiras ações emergenciais do War Room foi fazer um atendimento pessoal aos clientes. Porém, a dificuldade inicial era identificar quais clientes teriam um nível de satisfação “Satisfeito” ou “Neutro/Insatisfeito”, para que o time conseguisse entrar em contato somente com os clientes “Neutro/Insatisfeito”.\n",
    "\n",
    "Os Cientistas de Dados do War Room ficaram com a tarefa de treinar um algoritmo para classificar os clientes de uma planilha em “Satisfeito” ou “Neutro/Insatisfeito”, prevendo quais clientes ficarão Insatisfeitos e portanto agindo rápido para entender o motivo da insatisfação e reverter o cenário do cliente."
   ]
  },
  {
   "cell_type": "markdown",
   "id": "2029f26e",
   "metadata": {},
   "source": [
    "# Dados"
   ]
  },
  {
   "cell_type": "markdown",
   "id": "abe72cde",
   "metadata": {},
   "source": [
    "**Arquivos**\n",
    "\n",
    "* _treino.csv_ - base de dados de treino.<br>\n",
    "* _teste.csv_ - base de dados de teste.<br>\n",
    "* _submission.csv_ - um arquivo de submissão de exemplo no formato correto.\n",
    "\n",
    "**Colunas**\n",
    "* _Gender:_ Gênero do cliente<br>\n",
    "* _Age:_ Idade do cliente<br>\n",
    "* _Type of Purchase:_ O tipo de compra<br>\n",
    "* _Store size:_ O tamanho da loja<br>\n",
    "* _Store distance:_ Distância até o centro da cidade<br>\n",
    "* _InStore wifi:_ Nível de satisfação com o Wifi da Loja<br>\n",
    "* _Open/Close time convenient:_ Nível de satisfação do horário de abertura e fechamento da loja<br>\n",
    "* _Easy of online shopping:_ Nível de satisfação com a compra online<br>\n",
    "* _Store location:_ Nível de satisfação com a acesso a loja<br>\n",
    "* _Toilet cleaning:_ Nível de limpeza dos banheiros<br>\n",
    "* _Dressing room:_ Nível de satisfação com o provador<br>\n",
    "* _Waiting room:_ Nível de satisfação do local de espera dentro da loja.<br>\n",
    "* _Kids entertainment:_ Nível de satisfação do espaço kids<br>\n",
    "* _Seller service:_ Nível de satisfação com o atendimento dos vendedores<br>\n",
    "* _Showroom:_ Nível de satisfação com a disposição das roupas no interior da loja<br>\n",
    "* _Self-Store:_ Nível de satisfação com os guarda-volumes da loja<br>\n",
    "* _Purchase service:_ Nível de satisfação do atendimento no pagamento<br>\n",
    "* _Inflights Service:_ Store Service<br>\n",
    "* _Cleanliness:_ Nível de satisfação com a limpeza da loja<br>\n",
    "* _Carrier delay in minutes:_ Tempo de atraso do produto na saída da transportadora<br>\n",
    "* _Delivery delay in minutes:_ Tempo de atraso na entrega do produto até a casa do cliente."
   ]
  },
  {
   "cell_type": "code",
   "execution_count": 1,
   "id": "56524ecd",
   "metadata": {},
   "outputs": [],
   "source": [
    "#!pip install lightgbm\n",
    "#!pip install sweetviz"
   ]
  },
  {
   "cell_type": "markdown",
   "id": "6b7e3238",
   "metadata": {},
   "source": [
    "# Bibliotecas"
   ]
  },
  {
   "cell_type": "code",
   "execution_count": 2,
   "id": "f513fa0f",
   "metadata": {},
   "outputs": [],
   "source": [
    "import datetime\n",
    "import matplotlib.pyplot as plt\n",
    "import numpy as np\n",
    "import pandas as pd\n",
    "import seaborn as sns\n",
    "import sweetviz as sv\n",
    "import time\n",
    "import xgboost as xgb\n",
    "import lightgbm as lgb\n",
    "\n",
    "from sklearn.model_selection import cross_val_predict\n",
    "from sklearn.metrics import average_precision_score\n",
    "\n",
    "from sklearn.ensemble        import RandomForestClassifier, GradientBoostingClassifier\n",
    "from sklearn.model_selection import train_test_split, RandomizedSearchCV\n",
    "from sklearn.preprocessing   import RobustScaler\n",
    "from scipy import stats"
   ]
  },
  {
   "cell_type": "markdown",
   "id": "4ac5bef8",
   "metadata": {},
   "source": [
    "# Configurações"
   ]
  },
  {
   "cell_type": "code",
   "execution_count": 3,
   "id": "4ed370ac",
   "metadata": {},
   "outputs": [],
   "source": [
    "pd.set_option('display.max_columns', None)"
   ]
  },
  {
   "cell_type": "markdown",
   "id": "dcec2b13",
   "metadata": {},
   "source": [
    "# Funções"
   ]
  },
  {
   "cell_type": "code",
   "execution_count": 4,
   "id": "1d962205",
   "metadata": {},
   "outputs": [],
   "source": [
    "# Renomeia colunas\n",
    "def changecase(x):\n",
    "    output=[]\n",
    "    for i in x:\n",
    "        i=i.title()\n",
    "        i=i.strip().replace(' ', '').replace('-', '').replace('/', '')\n",
    "        i=i[0].lower()+i[1:]\n",
    "        i = i.replace('instoreWifi','inStoreWifi')        \n",
    "        output.append(i)\n",
    "    return output"
   ]
  },
  {
   "cell_type": "markdown",
   "id": "e2e7352e",
   "metadata": {},
   "source": [
    "# Extração de Dados"
   ]
  },
  {
   "cell_type": "code",
   "execution_count": 5,
   "id": "1b8e069f",
   "metadata": {},
   "outputs": [],
   "source": [
    "train_raw = pd.read_csv(\"train.csv\")"
   ]
  },
  {
   "cell_type": "code",
   "execution_count": 6,
   "id": "57515a31",
   "metadata": {},
   "outputs": [],
   "source": [
    "test_raw = pd.read_csv(\"test.csv\")"
   ]
  },
  {
   "cell_type": "markdown",
   "id": "78974991",
   "metadata": {},
   "source": [
    "# Análise Exploratória dos Dados"
   ]
  },
  {
   "cell_type": "code",
   "execution_count": 7,
   "id": "45a34ecb",
   "metadata": {},
   "outputs": [],
   "source": [
    "df1 = train_raw.copy()"
   ]
  },
  {
   "cell_type": "code",
   "execution_count": 8,
   "id": "b9ece085",
   "metadata": {},
   "outputs": [
    {
     "data": {
      "text/html": [
       "<div>\n",
       "<style scoped>\n",
       "    .dataframe tbody tr th:only-of-type {\n",
       "        vertical-align: middle;\n",
       "    }\n",
       "\n",
       "    .dataframe tbody tr th {\n",
       "        vertical-align: top;\n",
       "    }\n",
       "\n",
       "    .dataframe thead th {\n",
       "        text-align: right;\n",
       "    }\n",
       "</style>\n",
       "<table border=\"1\" class=\"dataframe\">\n",
       "  <thead>\n",
       "    <tr style=\"text-align: right;\">\n",
       "      <th></th>\n",
       "      <th>id</th>\n",
       "      <th>Gender</th>\n",
       "      <th>Customer Type</th>\n",
       "      <th>Age</th>\n",
       "      <th>Type of Purchase</th>\n",
       "      <th>Store size</th>\n",
       "      <th>Store distance</th>\n",
       "      <th>InStore wifi</th>\n",
       "      <th>Open/Close time convenient</th>\n",
       "      <th>Easy of online shopping</th>\n",
       "      <th>Store location</th>\n",
       "      <th>Toilet cleaning</th>\n",
       "      <th>Dressing room</th>\n",
       "      <th>Waiting room</th>\n",
       "      <th>Kids entertainment</th>\n",
       "      <th>Seller service</th>\n",
       "      <th>Showroom</th>\n",
       "      <th>Self-Store</th>\n",
       "      <th>Purchase service</th>\n",
       "      <th>Store Service</th>\n",
       "      <th>Cleanliness</th>\n",
       "      <th>Carrier delay in minutes</th>\n",
       "      <th>Delivery delay in minutes</th>\n",
       "      <th>Satisfaction</th>\n",
       "    </tr>\n",
       "  </thead>\n",
       "  <tbody>\n",
       "    <tr>\n",
       "      <th>0</th>\n",
       "      <td>70172</td>\n",
       "      <td>Male</td>\n",
       "      <td>Loyal Customer</td>\n",
       "      <td>13</td>\n",
       "      <td>Personal</td>\n",
       "      <td>Small</td>\n",
       "      <td>460</td>\n",
       "      <td>3</td>\n",
       "      <td>4</td>\n",
       "      <td>3</td>\n",
       "      <td>1</td>\n",
       "      <td>5</td>\n",
       "      <td>3</td>\n",
       "      <td>5</td>\n",
       "      <td>5</td>\n",
       "      <td>4</td>\n",
       "      <td>3</td>\n",
       "      <td>4</td>\n",
       "      <td>4</td>\n",
       "      <td>5</td>\n",
       "      <td>5</td>\n",
       "      <td>25</td>\n",
       "      <td>18.0</td>\n",
       "      <td>Neutral or Dissatisfaction</td>\n",
       "    </tr>\n",
       "    <tr>\n",
       "      <th>1</th>\n",
       "      <td>5047</td>\n",
       "      <td>Male</td>\n",
       "      <td>disloyal Customer</td>\n",
       "      <td>25</td>\n",
       "      <td>Gift</td>\n",
       "      <td>Large</td>\n",
       "      <td>235</td>\n",
       "      <td>3</td>\n",
       "      <td>2</td>\n",
       "      <td>3</td>\n",
       "      <td>3</td>\n",
       "      <td>1</td>\n",
       "      <td>3</td>\n",
       "      <td>1</td>\n",
       "      <td>1</td>\n",
       "      <td>1</td>\n",
       "      <td>5</td>\n",
       "      <td>3</td>\n",
       "      <td>1</td>\n",
       "      <td>4</td>\n",
       "      <td>1</td>\n",
       "      <td>1</td>\n",
       "      <td>6.0</td>\n",
       "      <td>Neutral or Dissatisfaction</td>\n",
       "    </tr>\n",
       "    <tr>\n",
       "      <th>2</th>\n",
       "      <td>110028</td>\n",
       "      <td>Female</td>\n",
       "      <td>Loyal Customer</td>\n",
       "      <td>26</td>\n",
       "      <td>Gift</td>\n",
       "      <td>Large</td>\n",
       "      <td>1142</td>\n",
       "      <td>2</td>\n",
       "      <td>2</td>\n",
       "      <td>2</td>\n",
       "      <td>2</td>\n",
       "      <td>5</td>\n",
       "      <td>5</td>\n",
       "      <td>5</td>\n",
       "      <td>5</td>\n",
       "      <td>4</td>\n",
       "      <td>3</td>\n",
       "      <td>4</td>\n",
       "      <td>4</td>\n",
       "      <td>4</td>\n",
       "      <td>5</td>\n",
       "      <td>0</td>\n",
       "      <td>0.0</td>\n",
       "      <td>Satisfied</td>\n",
       "    </tr>\n",
       "    <tr>\n",
       "      <th>3</th>\n",
       "      <td>24026</td>\n",
       "      <td>Female</td>\n",
       "      <td>Loyal Customer</td>\n",
       "      <td>25</td>\n",
       "      <td>Gift</td>\n",
       "      <td>Large</td>\n",
       "      <td>562</td>\n",
       "      <td>2</td>\n",
       "      <td>5</td>\n",
       "      <td>5</td>\n",
       "      <td>5</td>\n",
       "      <td>2</td>\n",
       "      <td>2</td>\n",
       "      <td>2</td>\n",
       "      <td>2</td>\n",
       "      <td>2</td>\n",
       "      <td>5</td>\n",
       "      <td>3</td>\n",
       "      <td>1</td>\n",
       "      <td>4</td>\n",
       "      <td>2</td>\n",
       "      <td>11</td>\n",
       "      <td>9.0</td>\n",
       "      <td>Neutral or Dissatisfaction</td>\n",
       "    </tr>\n",
       "    <tr>\n",
       "      <th>4</th>\n",
       "      <td>119299</td>\n",
       "      <td>Male</td>\n",
       "      <td>Loyal Customer</td>\n",
       "      <td>61</td>\n",
       "      <td>Gift</td>\n",
       "      <td>Large</td>\n",
       "      <td>214</td>\n",
       "      <td>3</td>\n",
       "      <td>3</td>\n",
       "      <td>3</td>\n",
       "      <td>3</td>\n",
       "      <td>4</td>\n",
       "      <td>5</td>\n",
       "      <td>5</td>\n",
       "      <td>3</td>\n",
       "      <td>3</td>\n",
       "      <td>4</td>\n",
       "      <td>4</td>\n",
       "      <td>3</td>\n",
       "      <td>3</td>\n",
       "      <td>3</td>\n",
       "      <td>0</td>\n",
       "      <td>0.0</td>\n",
       "      <td>Satisfied</td>\n",
       "    </tr>\n",
       "  </tbody>\n",
       "</table>\n",
       "</div>"
      ],
      "text/plain": [
       "       id  Gender      Customer Type  Age Type of Purchase Store size  \\\n",
       "0   70172    Male     Loyal Customer   13         Personal      Small   \n",
       "1    5047    Male  disloyal Customer   25             Gift      Large   \n",
       "2  110028  Female     Loyal Customer   26             Gift      Large   \n",
       "3   24026  Female     Loyal Customer   25             Gift      Large   \n",
       "4  119299    Male     Loyal Customer   61             Gift      Large   \n",
       "\n",
       "   Store distance  InStore wifi  Open/Close time convenient  \\\n",
       "0             460             3                           4   \n",
       "1             235             3                           2   \n",
       "2            1142             2                           2   \n",
       "3             562             2                           5   \n",
       "4             214             3                           3   \n",
       "\n",
       "   Easy of online shopping  Store location  Toilet cleaning  Dressing room  \\\n",
       "0                        3               1                5              3   \n",
       "1                        3               3                1              3   \n",
       "2                        2               2                5              5   \n",
       "3                        5               5                2              2   \n",
       "4                        3               3                4              5   \n",
       "\n",
       "   Waiting room  Kids entertainment  Seller service  Showroom   Self-Store  \\\n",
       "0             5                   5               4          3           4   \n",
       "1             1                   1               1          5           3   \n",
       "2             5                   5               4          3           4   \n",
       "3             2                   2               2          5           3   \n",
       "4             5                   3               3          4           4   \n",
       "\n",
       "   Purchase service  Store Service  Cleanliness  Carrier delay in minutes  \\\n",
       "0                 4              5            5                        25   \n",
       "1                 1              4            1                         1   \n",
       "2                 4              4            5                         0   \n",
       "3                 1              4            2                        11   \n",
       "4                 3              3            3                         0   \n",
       "\n",
       "   Delivery delay in minutes                Satisfaction  \n",
       "0                       18.0  Neutral or Dissatisfaction  \n",
       "1                        6.0  Neutral or Dissatisfaction  \n",
       "2                        0.0                   Satisfied  \n",
       "3                        9.0  Neutral or Dissatisfaction  \n",
       "4                        0.0                   Satisfied  "
      ]
     },
     "execution_count": 8,
     "metadata": {},
     "output_type": "execute_result"
    }
   ],
   "source": [
    "df1.head(5)"
   ]
  },
  {
   "cell_type": "markdown",
   "id": "a08d4e5b",
   "metadata": {},
   "source": [
    "## Colunas"
   ]
  },
  {
   "cell_type": "code",
   "execution_count": 9,
   "id": "4cb401f9",
   "metadata": {},
   "outputs": [
    {
     "data": {
      "text/plain": [
       "Index(['id', 'Gender', 'Customer Type', 'Age', 'Type of Purchase',\n",
       "       'Store size', 'Store distance', 'InStore wifi',\n",
       "       'Open/Close time convenient', 'Easy of online shopping',\n",
       "       'Store location', 'Toilet cleaning', 'Dressing room', 'Waiting room',\n",
       "       'Kids entertainment', 'Seller service', 'Showroom ', 'Self-Store',\n",
       "       'Purchase service', 'Store Service', 'Cleanliness',\n",
       "       'Carrier delay in minutes', 'Delivery delay in minutes',\n",
       "       'Satisfaction'],\n",
       "      dtype='object')"
      ]
     },
     "execution_count": 9,
     "metadata": {},
     "output_type": "execute_result"
    }
   ],
   "source": [
    "df1.columns"
   ]
  },
  {
   "cell_type": "code",
   "execution_count": 10,
   "id": "25ee9315",
   "metadata": {},
   "outputs": [],
   "source": [
    "# Renomeia colunas\n",
    "df1.columns = changecase(df1.columns)"
   ]
  },
  {
   "cell_type": "code",
   "execution_count": 11,
   "id": "a5343a1f",
   "metadata": {},
   "outputs": [
    {
     "data": {
      "text/plain": [
       "id                           int64\n",
       "gender                      object\n",
       "customerType                object\n",
       "age                          int64\n",
       "typeOfPurchase              object\n",
       "storeSize                   object\n",
       "storeDistance                int64\n",
       "inStoreWifi                  int64\n",
       "openCloseTimeConvenient      int64\n",
       "easyOfOnlineShopping         int64\n",
       "storeLocation                int64\n",
       "toiletCleaning               int64\n",
       "dressingRoom                 int64\n",
       "waitingRoom                  int64\n",
       "kidsEntertainment            int64\n",
       "sellerService                int64\n",
       "showroom                     int64\n",
       "selfStore                    int64\n",
       "purchaseService              int64\n",
       "storeService                 int64\n",
       "cleanliness                  int64\n",
       "carrierDelayInMinutes        int64\n",
       "deliveryDelayInMinutes     float64\n",
       "satisfaction                object\n",
       "dtype: object"
      ]
     },
     "execution_count": 11,
     "metadata": {},
     "output_type": "execute_result"
    }
   ],
   "source": [
    "# Tipo das colunas\n",
    "df1.dtypes"
   ]
  },
  {
   "cell_type": "markdown",
   "id": "c02f4774",
   "metadata": {},
   "source": [
    "## Descrição Estatística"
   ]
  },
  {
   "cell_type": "code",
   "execution_count": 12,
   "id": "67832eda",
   "metadata": {},
   "outputs": [
    {
     "data": {
      "text/html": [
       "<div>\n",
       "<style scoped>\n",
       "    .dataframe tbody tr th:only-of-type {\n",
       "        vertical-align: middle;\n",
       "    }\n",
       "\n",
       "    .dataframe tbody tr th {\n",
       "        vertical-align: top;\n",
       "    }\n",
       "\n",
       "    .dataframe thead th {\n",
       "        text-align: right;\n",
       "    }\n",
       "</style>\n",
       "<table border=\"1\" class=\"dataframe\">\n",
       "  <thead>\n",
       "    <tr style=\"text-align: right;\">\n",
       "      <th></th>\n",
       "      <th>count</th>\n",
       "      <th>mean</th>\n",
       "      <th>std</th>\n",
       "      <th>min</th>\n",
       "      <th>25%</th>\n",
       "      <th>50%</th>\n",
       "      <th>75%</th>\n",
       "      <th>max</th>\n",
       "    </tr>\n",
       "  </thead>\n",
       "  <tbody>\n",
       "    <tr>\n",
       "      <th>id</th>\n",
       "      <td>103904.0</td>\n",
       "      <td>64924.210502</td>\n",
       "      <td>37463.812252</td>\n",
       "      <td>1.0</td>\n",
       "      <td>32533.75</td>\n",
       "      <td>64856.5</td>\n",
       "      <td>97368.25</td>\n",
       "      <td>129880.0</td>\n",
       "    </tr>\n",
       "    <tr>\n",
       "      <th>age</th>\n",
       "      <td>103904.0</td>\n",
       "      <td>39.379706</td>\n",
       "      <td>15.114964</td>\n",
       "      <td>7.0</td>\n",
       "      <td>27.00</td>\n",
       "      <td>40.0</td>\n",
       "      <td>51.00</td>\n",
       "      <td>85.0</td>\n",
       "    </tr>\n",
       "    <tr>\n",
       "      <th>storeDistance</th>\n",
       "      <td>103904.0</td>\n",
       "      <td>1189.448375</td>\n",
       "      <td>997.147281</td>\n",
       "      <td>31.0</td>\n",
       "      <td>414.00</td>\n",
       "      <td>843.0</td>\n",
       "      <td>1743.00</td>\n",
       "      <td>4983.0</td>\n",
       "    </tr>\n",
       "    <tr>\n",
       "      <th>inStoreWifi</th>\n",
       "      <td>103904.0</td>\n",
       "      <td>2.729683</td>\n",
       "      <td>1.327829</td>\n",
       "      <td>0.0</td>\n",
       "      <td>2.00</td>\n",
       "      <td>3.0</td>\n",
       "      <td>4.00</td>\n",
       "      <td>5.0</td>\n",
       "    </tr>\n",
       "    <tr>\n",
       "      <th>openCloseTimeConvenient</th>\n",
       "      <td>103904.0</td>\n",
       "      <td>3.060296</td>\n",
       "      <td>1.525075</td>\n",
       "      <td>0.0</td>\n",
       "      <td>2.00</td>\n",
       "      <td>3.0</td>\n",
       "      <td>4.00</td>\n",
       "      <td>5.0</td>\n",
       "    </tr>\n",
       "    <tr>\n",
       "      <th>easyOfOnlineShopping</th>\n",
       "      <td>103904.0</td>\n",
       "      <td>2.756901</td>\n",
       "      <td>1.398929</td>\n",
       "      <td>0.0</td>\n",
       "      <td>2.00</td>\n",
       "      <td>3.0</td>\n",
       "      <td>4.00</td>\n",
       "      <td>5.0</td>\n",
       "    </tr>\n",
       "    <tr>\n",
       "      <th>storeLocation</th>\n",
       "      <td>103904.0</td>\n",
       "      <td>2.976883</td>\n",
       "      <td>1.277621</td>\n",
       "      <td>0.0</td>\n",
       "      <td>2.00</td>\n",
       "      <td>3.0</td>\n",
       "      <td>4.00</td>\n",
       "      <td>5.0</td>\n",
       "    </tr>\n",
       "    <tr>\n",
       "      <th>toiletCleaning</th>\n",
       "      <td>103904.0</td>\n",
       "      <td>3.202129</td>\n",
       "      <td>1.329533</td>\n",
       "      <td>0.0</td>\n",
       "      <td>2.00</td>\n",
       "      <td>3.0</td>\n",
       "      <td>4.00</td>\n",
       "      <td>5.0</td>\n",
       "    </tr>\n",
       "    <tr>\n",
       "      <th>dressingRoom</th>\n",
       "      <td>103904.0</td>\n",
       "      <td>3.250375</td>\n",
       "      <td>1.349509</td>\n",
       "      <td>0.0</td>\n",
       "      <td>2.00</td>\n",
       "      <td>3.0</td>\n",
       "      <td>4.00</td>\n",
       "      <td>5.0</td>\n",
       "    </tr>\n",
       "    <tr>\n",
       "      <th>waitingRoom</th>\n",
       "      <td>103904.0</td>\n",
       "      <td>3.439396</td>\n",
       "      <td>1.319088</td>\n",
       "      <td>0.0</td>\n",
       "      <td>2.00</td>\n",
       "      <td>4.0</td>\n",
       "      <td>5.00</td>\n",
       "      <td>5.0</td>\n",
       "    </tr>\n",
       "    <tr>\n",
       "      <th>kidsEntertainment</th>\n",
       "      <td>103904.0</td>\n",
       "      <td>3.358158</td>\n",
       "      <td>1.332991</td>\n",
       "      <td>0.0</td>\n",
       "      <td>2.00</td>\n",
       "      <td>4.0</td>\n",
       "      <td>4.00</td>\n",
       "      <td>5.0</td>\n",
       "    </tr>\n",
       "    <tr>\n",
       "      <th>sellerService</th>\n",
       "      <td>103904.0</td>\n",
       "      <td>3.382363</td>\n",
       "      <td>1.288354</td>\n",
       "      <td>0.0</td>\n",
       "      <td>2.00</td>\n",
       "      <td>4.0</td>\n",
       "      <td>4.00</td>\n",
       "      <td>5.0</td>\n",
       "    </tr>\n",
       "    <tr>\n",
       "      <th>showroom</th>\n",
       "      <td>103904.0</td>\n",
       "      <td>3.351055</td>\n",
       "      <td>1.315605</td>\n",
       "      <td>0.0</td>\n",
       "      <td>2.00</td>\n",
       "      <td>4.0</td>\n",
       "      <td>4.00</td>\n",
       "      <td>5.0</td>\n",
       "    </tr>\n",
       "    <tr>\n",
       "      <th>selfStore</th>\n",
       "      <td>103904.0</td>\n",
       "      <td>3.631833</td>\n",
       "      <td>1.180903</td>\n",
       "      <td>1.0</td>\n",
       "      <td>3.00</td>\n",
       "      <td>4.0</td>\n",
       "      <td>5.00</td>\n",
       "      <td>5.0</td>\n",
       "    </tr>\n",
       "    <tr>\n",
       "      <th>purchaseService</th>\n",
       "      <td>103904.0</td>\n",
       "      <td>3.304290</td>\n",
       "      <td>1.265396</td>\n",
       "      <td>0.0</td>\n",
       "      <td>3.00</td>\n",
       "      <td>3.0</td>\n",
       "      <td>4.00</td>\n",
       "      <td>5.0</td>\n",
       "    </tr>\n",
       "    <tr>\n",
       "      <th>storeService</th>\n",
       "      <td>103904.0</td>\n",
       "      <td>3.640428</td>\n",
       "      <td>1.175663</td>\n",
       "      <td>0.0</td>\n",
       "      <td>3.00</td>\n",
       "      <td>4.0</td>\n",
       "      <td>5.00</td>\n",
       "      <td>5.0</td>\n",
       "    </tr>\n",
       "    <tr>\n",
       "      <th>cleanliness</th>\n",
       "      <td>103904.0</td>\n",
       "      <td>3.286351</td>\n",
       "      <td>1.312273</td>\n",
       "      <td>0.0</td>\n",
       "      <td>2.00</td>\n",
       "      <td>3.0</td>\n",
       "      <td>4.00</td>\n",
       "      <td>5.0</td>\n",
       "    </tr>\n",
       "    <tr>\n",
       "      <th>carrierDelayInMinutes</th>\n",
       "      <td>103904.0</td>\n",
       "      <td>14.815618</td>\n",
       "      <td>38.230901</td>\n",
       "      <td>0.0</td>\n",
       "      <td>0.00</td>\n",
       "      <td>0.0</td>\n",
       "      <td>12.00</td>\n",
       "      <td>1592.0</td>\n",
       "    </tr>\n",
       "    <tr>\n",
       "      <th>deliveryDelayInMinutes</th>\n",
       "      <td>103594.0</td>\n",
       "      <td>15.178678</td>\n",
       "      <td>38.698682</td>\n",
       "      <td>0.0</td>\n",
       "      <td>0.00</td>\n",
       "      <td>0.0</td>\n",
       "      <td>13.00</td>\n",
       "      <td>1584.0</td>\n",
       "    </tr>\n",
       "  </tbody>\n",
       "</table>\n",
       "</div>"
      ],
      "text/plain": [
       "                            count          mean           std   min       25%  \\\n",
       "id                       103904.0  64924.210502  37463.812252   1.0  32533.75   \n",
       "age                      103904.0     39.379706     15.114964   7.0     27.00   \n",
       "storeDistance            103904.0   1189.448375    997.147281  31.0    414.00   \n",
       "inStoreWifi              103904.0      2.729683      1.327829   0.0      2.00   \n",
       "openCloseTimeConvenient  103904.0      3.060296      1.525075   0.0      2.00   \n",
       "easyOfOnlineShopping     103904.0      2.756901      1.398929   0.0      2.00   \n",
       "storeLocation            103904.0      2.976883      1.277621   0.0      2.00   \n",
       "toiletCleaning           103904.0      3.202129      1.329533   0.0      2.00   \n",
       "dressingRoom             103904.0      3.250375      1.349509   0.0      2.00   \n",
       "waitingRoom              103904.0      3.439396      1.319088   0.0      2.00   \n",
       "kidsEntertainment        103904.0      3.358158      1.332991   0.0      2.00   \n",
       "sellerService            103904.0      3.382363      1.288354   0.0      2.00   \n",
       "showroom                 103904.0      3.351055      1.315605   0.0      2.00   \n",
       "selfStore                103904.0      3.631833      1.180903   1.0      3.00   \n",
       "purchaseService          103904.0      3.304290      1.265396   0.0      3.00   \n",
       "storeService             103904.0      3.640428      1.175663   0.0      3.00   \n",
       "cleanliness              103904.0      3.286351      1.312273   0.0      2.00   \n",
       "carrierDelayInMinutes    103904.0     14.815618     38.230901   0.0      0.00   \n",
       "deliveryDelayInMinutes   103594.0     15.178678     38.698682   0.0      0.00   \n",
       "\n",
       "                             50%       75%       max  \n",
       "id                       64856.5  97368.25  129880.0  \n",
       "age                         40.0     51.00      85.0  \n",
       "storeDistance              843.0   1743.00    4983.0  \n",
       "inStoreWifi                  3.0      4.00       5.0  \n",
       "openCloseTimeConvenient      3.0      4.00       5.0  \n",
       "easyOfOnlineShopping         3.0      4.00       5.0  \n",
       "storeLocation                3.0      4.00       5.0  \n",
       "toiletCleaning               3.0      4.00       5.0  \n",
       "dressingRoom                 3.0      4.00       5.0  \n",
       "waitingRoom                  4.0      5.00       5.0  \n",
       "kidsEntertainment            4.0      4.00       5.0  \n",
       "sellerService                4.0      4.00       5.0  \n",
       "showroom                     4.0      4.00       5.0  \n",
       "selfStore                    4.0      5.00       5.0  \n",
       "purchaseService              3.0      4.00       5.0  \n",
       "storeService                 4.0      5.00       5.0  \n",
       "cleanliness                  3.0      4.00       5.0  \n",
       "carrierDelayInMinutes        0.0     12.00    1592.0  \n",
       "deliveryDelayInMinutes       0.0     13.00    1584.0  "
      ]
     },
     "execution_count": 12,
     "metadata": {},
     "output_type": "execute_result"
    }
   ],
   "source": [
    "describe = df1.describe().T\n",
    "describe"
   ]
  },
  {
   "cell_type": "code",
   "execution_count": 13,
   "id": "1ccb5010",
   "metadata": {},
   "outputs": [
    {
     "data": {
      "image/png": "[encoded data removed]",
      "text/plain": [
       "<Figure size 720x720 with 20 Axes>"
      ]
     },
     "metadata": {
      "needs_background": "light"
     },
     "output_type": "display_data"
    }
   ],
   "source": [
    "plt.rcParams['figure.figsize'] = [10,10]\n",
    "num_attributes = df1.select_dtypes( include= ['float64', 'int64'] )\n",
    "num_attributes.hist( bins= 100);"
   ]
  },
  {
   "cell_type": "markdown",
   "id": "b8fc5283",
   "metadata": {},
   "source": [
    "## Valores únicos em \"satisfaction\""
   ]
  },
  {
   "cell_type": "code",
   "execution_count": 14,
   "id": "0da665a7",
   "metadata": {},
   "outputs": [
    {
     "data": {
      "text/plain": [
       "array(['Neutral or Dissatisfaction', 'Satisfied'], dtype=object)"
      ]
     },
     "execution_count": 14,
     "metadata": {},
     "output_type": "execute_result"
    }
   ],
   "source": [
    "df1['satisfaction'].unique()"
   ]
  },
  {
   "cell_type": "code",
   "execution_count": 15,
   "id": "4d934922",
   "metadata": {},
   "outputs": [],
   "source": [
    "# Substitui valores do target por boolean para serem interpretados pelo sweetviz\n",
    "sv_df = df1.copy()\n",
    "sv_df['satisfaction'] = sv_df['satisfaction'].apply(lambda x: 1 if x == 'Satisfied' else 0)\n",
    "#report = sv.analyze(source = sv_df, target_feat = 'satisfaction')\n",
    "\n",
    "#report.show_notebook(w=\"100%\", h=\"full\")"
   ]
  },
  {
   "cell_type": "markdown",
   "id": "980be7ad",
   "metadata": {},
   "source": [
    "## Tamanho dos Dados"
   ]
  },
  {
   "cell_type": "code",
   "execution_count": 16,
   "id": "b88f8cc0",
   "metadata": {},
   "outputs": [
    {
     "name": "stdout",
     "output_type": "stream",
     "text": [
      "Linhas: 103904\n",
      "Colunas: 24\n"
     ]
    }
   ],
   "source": [
    "print(\"Linhas:\",df1.shape[0])\n",
    "print(\"Colunas:\",df1.shape[1])"
   ]
  },
  {
   "cell_type": "markdown",
   "id": "af63bd2c",
   "metadata": {},
   "source": [
    "## Número de Duplicados"
   ]
  },
  {
   "cell_type": "code",
   "execution_count": 17,
   "id": "cd3cbc7c",
   "metadata": {},
   "outputs": [
    {
     "data": {
      "text/plain": [
       "0"
      ]
     },
     "execution_count": 17,
     "metadata": {},
     "output_type": "execute_result"
    }
   ],
   "source": [
    "len(df1[df1.duplicated()].index)"
   ]
  },
  {
   "cell_type": "markdown",
   "id": "c1394dc7",
   "metadata": {},
   "source": [
    "## Número de NAs"
   ]
  },
  {
   "cell_type": "code",
   "execution_count": 18,
   "id": "d1060de6",
   "metadata": {},
   "outputs": [
    {
     "data": {
      "text/plain": [
       "id                           0\n",
       "gender                       0\n",
       "customerType                 0\n",
       "age                          0\n",
       "typeOfPurchase               0\n",
       "storeSize                    0\n",
       "storeDistance                0\n",
       "inStoreWifi                  0\n",
       "openCloseTimeConvenient      0\n",
       "easyOfOnlineShopping         0\n",
       "storeLocation                0\n",
       "toiletCleaning               0\n",
       "dressingRoom                 0\n",
       "waitingRoom                  0\n",
       "kidsEntertainment            0\n",
       "sellerService                0\n",
       "showroom                     0\n",
       "selfStore                    0\n",
       "purchaseService              0\n",
       "storeService                 0\n",
       "cleanliness                  0\n",
       "carrierDelayInMinutes        0\n",
       "deliveryDelayInMinutes     310\n",
       "satisfaction                 0\n",
       "dtype: int64"
      ]
     },
     "execution_count": 18,
     "metadata": {},
     "output_type": "execute_result"
    }
   ],
   "source": [
    "df1.isna().sum()"
   ]
  },
  {
   "cell_type": "markdown",
   "id": "4091dc47",
   "metadata": {},
   "source": [
    "## Correlação"
   ]
  },
  {
   "cell_type": "code",
   "execution_count": 19,
   "id": "02062224",
   "metadata": {},
   "outputs": [
    {
     "data": {
      "image/png": "[encoded data removed]",
      "text/plain": [
       "<Figure size 1080x1080 with 2 Axes>"
      ]
     },
     "metadata": {
      "needs_background": "light"
     },
     "output_type": "display_data"
    }
   ],
   "source": [
    "plt.rcParams['figure.figsize'] = [15,15]\n",
    "\n",
    "# Calcular a matriz de correlação\n",
    "correlation_matrix = df1.corr()\n",
    "\n",
    "# Gerar o mapa de calor\n",
    "sns.heatmap(correlation_matrix, annot=True, cmap='coolwarm', fmt='.2f');"
   ]
  },
  {
   "cell_type": "markdown",
   "id": "f5065b5f",
   "metadata": {},
   "source": [
    "# Preparação dos Dados"
   ]
  },
  {
   "cell_type": "code",
   "execution_count": 20,
   "id": "f1a77802",
   "metadata": {},
   "outputs": [],
   "source": [
    "df2 = df1.copy()"
   ]
  },
  {
   "cell_type": "markdown",
   "id": "c7595503",
   "metadata": {},
   "source": [
    "## Transformação"
   ]
  },
  {
   "cell_type": "code",
   "execution_count": 21,
   "id": "693962a3",
   "metadata": {},
   "outputs": [],
   "source": [
    "# Substitui valores nulos\n",
    "df2 = df2.fillna(-1)\n",
    "df2['deliveryDelayInMinutes'] = df2['deliveryDelayInMinutes'].astype('int64')"
   ]
  },
  {
   "cell_type": "code",
   "execution_count": 22,
   "id": "140dc1d5",
   "metadata": {},
   "outputs": [
    {
     "name": "stdout",
     "output_type": "stream",
     "text": [
      "gender - ['Male' 'Female']\n",
      "customerType - ['Loyal Customer' 'disloyal Customer']\n",
      "typeOfPurchase - ['Personal' 'Gift']\n",
      "storeSize - ['Small' 'Large' 'Medium']\n",
      "satisfaction - ['Neutral or Dissatisfaction' 'Satisfied']\n"
     ]
    }
   ],
   "source": [
    "# Lista valores únicos das variáveis categóricas\n",
    "for i in df2.select_dtypes(include='object').columns:\n",
    "    print(i,\"-\",df2[i].unique())"
   ]
  },
  {
   "cell_type": "code",
   "execution_count": 23,
   "id": "aabffdda",
   "metadata": {},
   "outputs": [],
   "source": [
    "df2.rename(columns={'customerType':'customerIsLoyal',\n",
    "                    'typeOfPurchase':'isGift'},inplace=True)"
   ]
  },
  {
   "cell_type": "code",
   "execution_count": 24,
   "id": "9d121d6e",
   "metadata": {},
   "outputs": [],
   "source": [
    "# Boolean\n",
    "df2['satisfaction'] = df2['satisfaction'].apply(lambda x: 1 if x == 'Satisfied' else 0)\n",
    "df2['customerIsLoyal'] = df2['customerIsLoyal'].apply(lambda x: 1 if x == 'Loyal Customer' else 0)\n",
    "df2['isGift'] = df2['isGift'].apply(lambda x: 1 if x == 'Gift' else 0)\n",
    "\n",
    "# Ordinal Encoding\n",
    "size_dict = {'Small':1, 'Medium':2, 'Large':3}\n",
    "df2['storeSize'] = df2['storeSize'].map(size_dict)\n",
    "\n",
    "# Get dummies\n",
    "df2 = pd.get_dummies(df2)"
   ]
  },
  {
   "cell_type": "markdown",
   "id": "226fb8ce",
   "metadata": {},
   "source": [
    "## Reescala"
   ]
  },
  {
   "cell_type": "code",
   "execution_count": 25,
   "id": "0fbd779f",
   "metadata": {},
   "outputs": [],
   "source": [
    "rs = RobustScaler()\n",
    "\n",
    "# age - Robust Scaler\n",
    "df2['age'] = rs.fit_transform( df2[['age']].values )\n",
    "\n",
    "# storeDistance - Robust Scaler\n",
    "df2['storeDistance'] = rs.fit_transform( df2[['storeDistance']].values )\n",
    "\n",
    "# carrierDelayInMinutes - Robust Scaler\n",
    "df2['carrierDelayInMinutes'] = rs.fit_transform( df2[['carrierDelayInMinutes']].values )\n",
    "\n",
    "# deliveryDelayInMinutes - Robust Scaler\n",
    "df2['deliveryDelayInMinutes'] = rs.fit_transform( df2[['deliveryDelayInMinutes']].values )"
   ]
  },
  {
   "cell_type": "markdown",
   "id": "da184a4a",
   "metadata": {},
   "source": [
    "# Feature Engineering"
   ]
  },
  {
   "cell_type": "code",
   "execution_count": 26,
   "id": "17053cdd",
   "metadata": {},
   "outputs": [],
   "source": [
    "# Remove colunas para simplificar o modelo:\n",
    "remover_colunas = ['toiletCleaning', 'openCloseTimeConvenient',\n",
    "                   'deliveryDelayInMinutes', 'carrierDelayInMinutes']"
   ]
  },
  {
   "cell_type": "code",
   "execution_count": 27,
   "id": "50e2dbfc",
   "metadata": {},
   "outputs": [],
   "source": [
    "df3 = df2.drop(columns=remover_colunas)"
   ]
  },
  {
   "cell_type": "markdown",
   "id": "7ee62582",
   "metadata": {},
   "source": [
    "# Modelos Machine Learning"
   ]
  },
  {
   "cell_type": "code",
   "execution_count": 28,
   "id": "94fc6281",
   "metadata": {},
   "outputs": [],
   "source": [
    "# Separa 30% da base para validação\n",
    "validacao = df3.sample(int(0.3*df3.shape[0]),random_state=0)\n",
    "df4 = df3.iloc[~df3.index.isin(validacao.index)]"
   ]
  },
  {
   "cell_type": "code",
   "execution_count": 29,
   "id": "a53c313c",
   "metadata": {},
   "outputs": [],
   "source": [
    "# Split data\n",
    "X_train, X_test, y_train, y_test = train_test_split(df4.drop(columns=['satisfaction']),\n",
    "                                                    df4[['satisfaction']],\n",
    "                                                    test_size=0.30,\n",
    "                                                    random_state=0)\n",
    "y_train = y_train['satisfaction'].values"
   ]
  },
  {
   "cell_type": "markdown",
   "id": "7b7b9bf5",
   "metadata": {},
   "source": [
    "## Random Forest"
   ]
  },
  {
   "cell_type": "code",
   "execution_count": 30,
   "id": "216a4396",
   "metadata": {},
   "outputs": [],
   "source": [
    "# model definition\n",
    "rf_model = RandomForestClassifier( n_estimators=100, n_jobs=-1, random_state= 42)\n",
    "\n",
    "# model training\n",
    "rf_model.fit(X_train, y_train);"
   ]
  },
  {
   "cell_type": "code",
   "execution_count": 31,
   "id": "7d86f58f",
   "metadata": {},
   "outputs": [
    {
     "name": "stdout",
     "output_type": "stream",
     "text": [
      "Avg Precision Score - Teste - Random Forest: 94.24%\n",
      "Avg Precision Score - Validação - Random Forest: 94.17%\n"
     ]
    }
   ],
   "source": [
    "# Performance\n",
    "# Teste\n",
    "y_pred_rf = rf_model.predict(X_test)\n",
    "avg_score_rf = average_precision_score(y_test, y_pred_rf, average= 'micro')\n",
    "print( f'Avg Precision Score - Teste - Random Forest: {avg_score_rf:.2%}' )\n",
    "\n",
    "# Validação\n",
    "y_pred_val_rf = rf_model.predict(validacao.drop(columns=['satisfaction']))\n",
    "avg_score_rf = average_precision_score(validacao[['satisfaction']], y_pred_val_rf, average= 'micro')\n",
    "print( f'Avg Precision Score - Validação - Random Forest: {avg_score_rf:.2%}' )"
   ]
  },
  {
   "cell_type": "markdown",
   "id": "22ba986c",
   "metadata": {},
   "source": [
    "## XGBoost"
   ]
  },
  {
   "cell_type": "code",
   "execution_count": 32,
   "id": "d185fe91",
   "metadata": {},
   "outputs": [],
   "source": [
    "# model definition\n",
    "xgb_model = GradientBoostingClassifier()\n",
    "\n",
    "# Fit\n",
    "xgb_model.fit( X_train, y_train );"
   ]
  },
  {
   "cell_type": "code",
   "execution_count": 33,
   "id": "c45a35b6",
   "metadata": {},
   "outputs": [
    {
     "name": "stdout",
     "output_type": "stream",
     "text": [
      "Avg Precision Score - Teste - XGB: 90.78%\n",
      "Avg Precision Score - Validação - XGB: 90.62%\n"
     ]
    }
   ],
   "source": [
    "# Performance\n",
    "# Teste\n",
    "y_pred_xgb = xgb_model.predict(X_test)\n",
    "avg_score_xgb = average_precision_score(y_test, y_pred_xgb, average= 'micro')\n",
    "print( f'Avg Precision Score - Teste - XGB: {avg_score_xgb:.2%}' )\n",
    "\n",
    "# Validação\n",
    "y_pred_val_xgb = xgb_model.predict(validacao.drop(columns=['satisfaction']))\n",
    "avg_score_xgb = average_precision_score(validacao[['satisfaction']], y_pred_val_xgb, average= 'micro')\n",
    "print( f'Avg Precision Score - Validação - XGB: {avg_score_xgb:.2%}' )"
   ]
  },
  {
   "cell_type": "markdown",
   "id": "ea09953a",
   "metadata": {},
   "source": [
    "## LGBM"
   ]
  },
  {
   "cell_type": "code",
   "execution_count": 34,
   "id": "4c30ffd7",
   "metadata": {},
   "outputs": [],
   "source": [
    "lgbm_model = lgb.LGBMClassifier(verbose=-1, random_state = 0)\n",
    "\n",
    "# model training\n",
    "lgbm_model.fit(X_train, y_train);"
   ]
  },
  {
   "cell_type": "code",
   "execution_count": 35,
   "id": "c322b403",
   "metadata": {},
   "outputs": [
    {
     "name": "stdout",
     "output_type": "stream",
     "text": [
      "Avg Precision Score - Teste - LGBM: 94.29%\n",
      "Avg Precision Score - Validação - LGBM: 94.38%\n"
     ]
    }
   ],
   "source": [
    "# Performance\n",
    "# Teste\n",
    "y_pred_lgbm = lgbm_model.predict(X_test)\n",
    "avg_score_lgbm = average_precision_score(y_test, y_pred_lgbm, average= 'micro')\n",
    "print( f'Avg Precision Score - Teste - LGBM: {avg_score_lgbm:.2%}' )\n",
    "\n",
    "# Validação\n",
    "y_pred_val_lgbm = lgbm_model.predict(validacao.drop(columns=['satisfaction']))\n",
    "avg_score_lgbm = average_precision_score(validacao[['satisfaction']], y_pred_val_lgbm, average= 'micro')\n",
    "print( f'Avg Precision Score - Validação - LGBM: {avg_score_lgbm:.2%}' )"
   ]
  },
  {
   "cell_type": "markdown",
   "id": "e95df0ad",
   "metadata": {},
   "source": [
    "# Fine Tuning do Modelo LGBM"
   ]
  },
  {
   "cell_type": "code",
   "execution_count": 36,
   "id": "561c47fb",
   "metadata": {},
   "outputs": [
    {
     "name": "stdout",
     "output_type": "stream",
     "text": [
      "Start: 23-07-2023 23:07:14 \n",
      "\n"
     ]
    },
    {
     "name": "stderr",
     "output_type": "stream",
     "text": [
      "C:\\Users\\julia\\anaconda3\\lib\\site-packages\\sklearn\\model_selection\\_validation.py:378: FitFailedWarning: \n",
      "160 fits failed out of a total of 500.\n",
      "The score on these train-test partitions for these parameters will be set to nan.\n",
      "If these failures are not expected, you can try to debug them by setting error_score='raise'.\n",
      "\n",
      "Below are more details about the failures:\n",
      "--------------------------------------------------------------------------------\n",
      "90 fits failed with the following error:\n",
      "Traceback (most recent call last):\n",
      "  File \"C:\\Users\\julia\\anaconda3\\lib\\site-packages\\sklearn\\model_selection\\_validation.py\", line 686, in _fit_and_score\n",
      "    estimator.fit(X_train, y_train, **fit_params)\n",
      "  File \"C:\\Users\\julia\\anaconda3\\lib\\site-packages\\lightgbm\\sklearn.py\", line 1142, in fit\n",
      "    super().fit(\n",
      "  File \"C:\\Users\\julia\\anaconda3\\lib\\site-packages\\lightgbm\\sklearn.py\", line 842, in fit\n",
      "    self._Booster = train(\n",
      "  File \"C:\\Users\\julia\\anaconda3\\lib\\site-packages\\lightgbm\\engine.py\", line 245, in train\n",
      "    booster = Booster(params=params, train_set=train_set)\n",
      "  File \"C:\\Users\\julia\\anaconda3\\lib\\site-packages\\lightgbm\\basic.py\", line 3096, in __init__\n",
      "    train_set.construct()\n",
      "  File \"C:\\Users\\julia\\anaconda3\\lib\\site-packages\\lightgbm\\basic.py\", line 2210, in construct\n",
      "    self._lazy_init(data=self.data, label=self.label, reference=None,\n",
      "  File \"C:\\Users\\julia\\anaconda3\\lib\\site-packages\\lightgbm\\basic.py\", line 1856, in _lazy_init\n",
      "    self.__init_from_np2d(data, params_str, ref_dataset)\n",
      "  File \"C:\\Users\\julia\\anaconda3\\lib\\site-packages\\lightgbm\\basic.py\", line 1990, in __init_from_np2d\n",
      "    _safe_call(_LIB.LGBM_DatasetCreateFromMat(\n",
      "  File \"C:\\Users\\julia\\anaconda3\\lib\\site-packages\\lightgbm\\basic.py\", line 237, in _safe_call\n",
      "    raise LightGBMError(_LIB.LGBM_GetLastError().decode('utf-8'))\n",
      "lightgbm.basic.LightGBMError: Check failed: (bagging_fraction) <= (1.0) at D:\\a\\1\\s\\lightgbm-python\\src\\io\\config_auto.cpp, line 364 .\n",
      "\n",
      "\n",
      "--------------------------------------------------------------------------------\n",
      "70 fits failed with the following error:\n",
      "Traceback (most recent call last):\n",
      "  File \"C:\\Users\\julia\\anaconda3\\lib\\site-packages\\sklearn\\model_selection\\_validation.py\", line 686, in _fit_and_score\n",
      "    estimator.fit(X_train, y_train, **fit_params)\n",
      "  File \"C:\\Users\\julia\\anaconda3\\lib\\site-packages\\lightgbm\\sklearn.py\", line 1142, in fit\n",
      "    super().fit(\n",
      "  File \"C:\\Users\\julia\\anaconda3\\lib\\site-packages\\lightgbm\\sklearn.py\", line 842, in fit\n",
      "    self._Booster = train(\n",
      "  File \"C:\\Users\\julia\\anaconda3\\lib\\site-packages\\lightgbm\\engine.py\", line 245, in train\n",
      "    booster = Booster(params=params, train_set=train_set)\n",
      "  File \"C:\\Users\\julia\\anaconda3\\lib\\site-packages\\lightgbm\\basic.py\", line 3096, in __init__\n",
      "    train_set.construct()\n",
      "  File \"C:\\Users\\julia\\anaconda3\\lib\\site-packages\\lightgbm\\basic.py\", line 2210, in construct\n",
      "    self._lazy_init(data=self.data, label=self.label, reference=None,\n",
      "  File \"C:\\Users\\julia\\anaconda3\\lib\\site-packages\\lightgbm\\basic.py\", line 1856, in _lazy_init\n",
      "    self.__init_from_np2d(data, params_str, ref_dataset)\n",
      "  File \"C:\\Users\\julia\\anaconda3\\lib\\site-packages\\lightgbm\\basic.py\", line 1990, in __init_from_np2d\n",
      "    _safe_call(_LIB.LGBM_DatasetCreateFromMat(\n",
      "  File \"C:\\Users\\julia\\anaconda3\\lib\\site-packages\\lightgbm\\basic.py\", line 237, in _safe_call\n",
      "    raise LightGBMError(_LIB.LGBM_GetLastError().decode('utf-8'))\n",
      "lightgbm.basic.LightGBMError: Check failed: (feature_fraction) <= (1.0) at D:\\a\\1\\s\\lightgbm-python\\src\\io\\config_auto.cpp, line 380 .\n",
      "\n",
      "\n",
      "  warnings.warn(some_fits_failed_message, FitFailedWarning)\n",
      "C:\\Users\\julia\\anaconda3\\lib\\site-packages\\sklearn\\model_selection\\_search.py:952: UserWarning: One or more of the test scores are non-finite: [0.99432374 0.99348281 0.62249921 0.99401011 0.9939606         nan\n",
      "        nan 0.99020891 0.99089394 0.993824   0.99391393 0.99390952\n",
      "        nan 0.99408335 0.99425973 0.99329149 0.68182243 0.99398413\n",
      "        nan 0.99360989 0.99426662 0.99394279 0.99395107 0.99373236\n",
      " 0.9913916         nan 0.99338674 0.72368384        nan        nan\n",
      " 0.99385546 0.70629276 0.99399438        nan 0.65132957 0.58511551\n",
      "        nan 0.99356003        nan        nan 0.9936367  0.62365433\n",
      " 0.69516464 0.99368314        nan 0.99351184 0.99408705        nan\n",
      "        nan 0.99401381 0.98751938        nan        nan        nan\n",
      "        nan 0.99214422 0.99364038 0.99397954 0.99124692        nan\n",
      " 0.92170799 0.99355911        nan 0.99399636 0.99396723 0.99399668\n",
      "        nan 0.99364152        nan        nan 0.70806692        nan\n",
      " 0.99358468        nan 0.91733765 0.61806696 0.99340772 0.99388305\n",
      "        nan        nan        nan        nan 0.68744401 0.68548846\n",
      " 0.72147465 0.99408837 0.99419648 0.9941342  0.99340695 0.99351938\n",
      " 0.99347889 0.99233485 0.72773953        nan 0.61959705 0.99204452\n",
      "        nan        nan 0.99400878 0.6394815 ]\n",
      "  warnings.warn(\n"
     ]
    },
    {
     "name": "stdout",
     "output_type": "stream",
     "text": [
      "Best parameters found:  {'colsample_bytree': 0.9, 'learning_rate': 0.01, 'max_depth': 17, 'n_estimators': 1230, 'num_leaves': 91, 'subsample': 1.0}\n",
      "Avg Precision LGBM: 96.54%\n",
      "\n",
      "End: 24-07-2023 00:02:51\n",
      "Fine tuning execution time: 00:55:36\n"
     ]
    }
   ],
   "source": [
    "t_start = time.time()\n",
    "print('Start:',datetime.datetime.now().strftime('%d-%m-%Y %H:%M:%S'),'\\n')\n",
    "\n",
    "# Define the LightGBM classifier\n",
    "lgb_clf = lgb.LGBMClassifier(random_state=42,verbose=-1)\n",
    "\n",
    "# Define the parameter grid for the RandomizedSearchCV\n",
    "param_grid = {\n",
    "    'n_estimators': stats.randint(100, 2000),\n",
    "    'max_depth': stats.randint(3, 20),\n",
    "    'learning_rate': [0.01, 0.05, 0.1, 1],\n",
    "    'num_leaves': stats.randint(20, 200),\n",
    "    'colsample_bytree': [0.6, 0.7, 0.8, 0.9, 1.0, 1.5],\n",
    "    'subsample': [0.6, 0.7, 0.8, 0.9, 1.0, 1.5]\n",
    "}\n",
    "\n",
    "# Define the RandomizedSearchCV object\n",
    "random_search = RandomizedSearchCV(\n",
    "    estimator=lgb_clf,\n",
    "    param_distributions=param_grid,\n",
    "    n_iter=100,\n",
    "    scoring='average_precision',\n",
    "    cv=5,\n",
    "    random_state=42,\n",
    "    verbose=0\n",
    ")\n",
    "\n",
    "# Run the parameter search\n",
    "random_search.fit(X_train, y_train)\n",
    "\n",
    "# Print the best parameters found\n",
    "print(\"Best parameters found: \", random_search.best_params_)\n",
    "\n",
    "# Evaluate the best model on the test set\n",
    "best_model = random_search.best_estimator_\n",
    "avg_precision = best_model.score(X_test, y_test)\n",
    "print( f'Avg Precision LGBM: {avg_precision:.2%}' )\n",
    "\n",
    "duration = time.time()-t_start\n",
    "h = '{:02d}'.format(int(duration//3600))\n",
    "m = '{:02d}'.format(int((duration%3600)//60))\n",
    "s = '{:02d}'.format(int(duration%60))\n",
    "\n",
    "print('\\nEnd:',datetime.datetime.now().strftime('%d-%m-%Y %H:%M:%S'))\n",
    "print(f'Fine tuning execution time: {h}:{m}:{s}')"
   ]
  },
  {
   "cell_type": "markdown",
   "id": "06f46a0f",
   "metadata": {},
   "source": [
    "# Aplicação do Modelo"
   ]
  },
  {
   "cell_type": "markdown",
   "id": "55254d41",
   "metadata": {},
   "source": [
    "## Separação de treino e teste"
   ]
  },
  {
   "cell_type": "code",
   "execution_count": 37,
   "id": "8a0cabf9",
   "metadata": {},
   "outputs": [],
   "source": [
    "test = test_raw.copy()\n",
    "train = train_raw.copy()\n",
    "submission = test[['id']]"
   ]
  },
  {
   "cell_type": "code",
   "execution_count": 38,
   "id": "15014509",
   "metadata": {},
   "outputs": [],
   "source": [
    "X_train = train.drop(columns = ['Satisfaction'])\n",
    "y_train = train['Satisfaction'].apply(lambda x: 1 if x == 'Satisfied' else 0)"
   ]
  },
  {
   "cell_type": "markdown",
   "id": "23e7f356",
   "metadata": {},
   "source": [
    "## Transformação e Reescala"
   ]
  },
  {
   "cell_type": "code",
   "execution_count": 39,
   "id": "ecbbf7d5",
   "metadata": {},
   "outputs": [],
   "source": [
    "def transforma_df(df,remover=[]):\n",
    "    \n",
    "    # Renomeia colunas\n",
    "    df.columns = changecase(df.columns)\n",
    "    \n",
    "    # Substitui valores nulos\n",
    "    df = df.fillna(-1)\n",
    "    df['deliveryDelayInMinutes'] = df['deliveryDelayInMinutes'].astype('int64')\n",
    "    \n",
    "    df.rename(columns={'customerType':'customerIsLoyal',\n",
    "                     'typeOfPurchase':'isGift'},inplace=True)\n",
    "    \n",
    "    # Boolean\n",
    "    df['customerIsLoyal'] = df['customerIsLoyal'].apply(lambda x: 1 if x == 'Loyal Customer' else 0)\n",
    "    df['isGift'] = df['isGift'].apply(lambda x: 1 if x == 'Gift' else 0)\n",
    "    \n",
    "    # Ordinal Encoding\n",
    "    size_dict = {'Small':1, 'Medium':2, 'Large':3}\n",
    "    df['storeSize'] = df['storeSize'].map(size_dict)\n",
    "    \n",
    "    # Get dummies\n",
    "    df = pd.get_dummies(df)\n",
    "    \n",
    "    df.drop(columns=remover,inplace=True)\n",
    "    \n",
    "    return df\n",
    "\n",
    "# Colunas a serem removidas\n",
    "remover = ['toiletCleaning', 'openCloseTimeConvenient', 'deliveryDelayInMinutes', 'carrierDelayInMinutes']\n",
    "\n",
    "# Transforma dados da base de treino e teste\n",
    "test =  transforma_df(test,remover)\n",
    "X_train = transforma_df(X_train,remover)"
   ]
  },
  {
   "cell_type": "markdown",
   "id": "363034ee",
   "metadata": {},
   "source": [
    "## Treino e Predição"
   ]
  },
  {
   "cell_type": "code",
   "execution_count": 40,
   "id": "c449edc4",
   "metadata": {},
   "outputs": [],
   "source": [
    "# Model\n",
    "lgbm_model = lgb.LGBMClassifier(colsample_bytree = 0.9,\n",
    "                                learning_rate = 0.01,\n",
    "                                max_depth = 17,\n",
    "                                n_estimators = 1230,\n",
    "                                num_leaves = 91,\n",
    "                                subsample = 1.0,\n",
    "                                verbose=-1,\n",
    "                                random_state = 0)\n",
    "\n",
    "\n",
    "# model training\n",
    "lgbm_model.fit(X_train, y_train)\n",
    "\n",
    "# predict\n",
    "y_pred_test_rf = lgbm_model.predict(test)\n",
    "\n",
    "submission['Satisfaction'] = y_pred_test_rf\n",
    "submission.to_csv('submission.csv',index=False)"
   ]
  },
  {
   "cell_type": "code",
   "execution_count": 41,
   "id": "e6b81b79",
   "metadata": {},
   "outputs": [
    {
     "data": {
      "text/html": [
       "<div>\n",
       "<style scoped>\n",
       "    .dataframe tbody tr th:only-of-type {\n",
       "        vertical-align: middle;\n",
       "    }\n",
       "\n",
       "    .dataframe tbody tr th {\n",
       "        vertical-align: top;\n",
       "    }\n",
       "\n",
       "    .dataframe thead th {\n",
       "        text-align: right;\n",
       "    }\n",
       "</style>\n",
       "<table border=\"1\" class=\"dataframe\">\n",
       "  <thead>\n",
       "    <tr style=\"text-align: right;\">\n",
       "      <th></th>\n",
       "      <th>id</th>\n",
       "      <th>Satisfaction</th>\n",
       "    </tr>\n",
       "  </thead>\n",
       "  <tbody>\n",
       "    <tr>\n",
       "      <th>0</th>\n",
       "      <td>19556</td>\n",
       "      <td>1</td>\n",
       "    </tr>\n",
       "    <tr>\n",
       "      <th>1</th>\n",
       "      <td>90035</td>\n",
       "      <td>1</td>\n",
       "    </tr>\n",
       "    <tr>\n",
       "      <th>2</th>\n",
       "      <td>12360</td>\n",
       "      <td>0</td>\n",
       "    </tr>\n",
       "    <tr>\n",
       "      <th>3</th>\n",
       "      <td>77959</td>\n",
       "      <td>1</td>\n",
       "    </tr>\n",
       "    <tr>\n",
       "      <th>4</th>\n",
       "      <td>36875</td>\n",
       "      <td>0</td>\n",
       "    </tr>\n",
       "    <tr>\n",
       "      <th>...</th>\n",
       "      <td>...</td>\n",
       "      <td>...</td>\n",
       "    </tr>\n",
       "    <tr>\n",
       "      <th>25971</th>\n",
       "      <td>78463</td>\n",
       "      <td>0</td>\n",
       "    </tr>\n",
       "    <tr>\n",
       "      <th>25972</th>\n",
       "      <td>71167</td>\n",
       "      <td>1</td>\n",
       "    </tr>\n",
       "    <tr>\n",
       "      <th>25973</th>\n",
       "      <td>37675</td>\n",
       "      <td>0</td>\n",
       "    </tr>\n",
       "    <tr>\n",
       "      <th>25974</th>\n",
       "      <td>90086</td>\n",
       "      <td>1</td>\n",
       "    </tr>\n",
       "    <tr>\n",
       "      <th>25975</th>\n",
       "      <td>34799</td>\n",
       "      <td>0</td>\n",
       "    </tr>\n",
       "  </tbody>\n",
       "</table>\n",
       "<p>25976 rows × 2 columns</p>\n",
       "</div>"
      ],
      "text/plain": [
       "          id  Satisfaction\n",
       "0      19556             1\n",
       "1      90035             1\n",
       "2      12360             0\n",
       "3      77959             1\n",
       "4      36875             0\n",
       "...      ...           ...\n",
       "25971  78463             0\n",
       "25972  71167             1\n",
       "25973  37675             0\n",
       "25974  90086             1\n",
       "25975  34799             0\n",
       "\n",
       "[25976 rows x 2 columns]"
      ]
     },
     "execution_count": 41,
     "metadata": {},
     "output_type": "execute_result"
    }
   ],
   "source": [
    "submission"
   ]
  }
 ],
 "metadata": {
  "kernelspec": {
   "display_name": "Python 3 (ipykernel)",
   "language": "python",
   "name": "python3"
  },
  "language_info": {
   "codemirror_mode": {
    "name": "ipython",
    "version": 3
   },
   "file_extension": ".py",
   "mimetype": "text/x-python",
   "name": "python",
   "nbconvert_exporter": "python",
   "pygments_lexer": "ipython3",
   "version": "3.8.8"
  },
  "latex_envs": {
   "LaTeX_envs_menu_present": true,
   "autoclose": false,
   "autocomplete": true,
   "bibliofile": "biblio.bib",
   "cite_by": "apalike",
   "current_citInitial": 1,
   "eqLabelWithNumbers": true,
   "eqNumInitial": 1,
   "hotkeys": {
    "equation": "Ctrl-E",
    "itemize": "Ctrl-I"
   },
   "labels_anchors": false,
   "latex_user_defs": false,
   "report_style_numbering": false,
   "user_envs_cfg": false
  }
 },
 "nbformat": 4,
 "nbformat_minor": 5
}
