{
 "cells": [
  {
   "cell_type": "markdown",
   "id": "69aefe9a",
   "metadata": {},
   "source": [
    "# Business Problem"
   ]
  },
  {
   "cell_type": "markdown",
   "id": "dc5ae2b2",
   "metadata": {},
   "source": [
    "https://www.kaggle.com/competitions/cdshackdays4/overview\n",
    "\n",
    "A Costa del Data é uma tradicional rede hoteleira espanhola. Ela possui hoje hotéis de 4 e 5 estrelas em todo o território nacional.\n",
    "\n",
    "A empresa está preocupada com as suas projeções para os próximos anos, visando a recuperação financeira com o fim das restrições impostas pela pandemia de Covid-19.\n",
    "\n",
    "Com a reabertura das fronteiras, a diminuição nas restrições de viagem e o aumento das vacinações, era esperado que o setor hoteleiro da Espanha retomasse os ganhos outrora esperados.\n",
    "\n",
    "Na contramão desta expectativa, a Costa del Data tem visto um aumento em sua taxa de cancelamentos de reservas! A suspeita da diretoria é de que houve uma mudança no comportamento de cancelamentos por parte do consumidor após a pandemia, que ainda não foi compreendida pela rede.\n",
    "\n",
    "Isso travou ações estratégicas críticas como a expansão da rede hoteleira, a reforma das unidades já com obras programadas, e a realização de ações de marketing direcionadas.\n",
    "\n",
    "O seu time de cientistas de dados foi contratado, para compreender o fenômeno dos cancelamentos de reservas. Em posse dos resultados, o time de marketing tomará decisões mais assertivas, focando nos públicos com menor incidência de cancelamento, revertendo assim o cenário negativo atual.\n",
    "\n",
    "Com base no histórico de reservas dos hóspedes, seu time deve desenvolver um modelo de previsão de cancelamentos. O modelo deve prever a variável alvo \"Reserva Cancelada\", retornando 1 em caso de cancelamento, e 0 em caso de não cancelamento.\n",
    "\n",
    "Para esta competição, desconsiderem fatores recentes como: conflitos armados, aumento de preços energéticos, acordos comerciais e aprovações orçamentárias que envolvam a Espanha, Europa ou mesmo o mundo."
   ]
  },
  {
   "cell_type": "markdown",
   "id": "9aff66fd",
   "metadata": {},
   "source": [
    "# Imports"
   ]
  },
  {
   "cell_type": "code",
   "execution_count": 1,
   "id": "1b08ceb0",
   "metadata": {},
   "outputs": [],
   "source": [
    "import datetime\n",
    "import inflection\n",
    "import io\n",
    "import time\n",
    "import math\n",
    "import matplotlib.pyplot as plt\n",
    "import numpy as np\n",
    "import pandas as pd\n",
    "import pickle\n",
    "import random\n",
    "import seaborn as sns\n",
    "import xgboost as xgb\n",
    "\n",
    "from boruta                  import BorutaPy\n",
    "from IPython.display         import Image\n",
    "from scipy                   import stats\n",
    "from catboost                import CatBoostClassifier\n",
    "from sklearn.ensemble        import RandomForestClassifier, GradientBoostingClassifier\n",
    "from sklearn.linear_model    import Lasso, LinearRegression, LogisticRegression\n",
    "from sklearn.metrics         import mean_absolute_error, mean_absolute_percentage_error, mean_squared_error,f1_score\n",
    "from sklearn.preprocessing   import RobustScaler, MinMaxScaler, LabelEncoder\n",
    "from sklearn.model_selection import train_test_split, RandomizedSearchCV\n",
    "from sklearn.neighbors       import KNeighborsClassifier\n",
    "from sklearn.naive_bayes     import GaussianNB\n",
    "from sklearn                 import tree\n",
    "from sklearn.utils.class_weight import compute_sample_weight\n",
    "\n",
    "from category_encoders       import CountEncoder, TargetEncoder\n",
    "from imblearn.over_sampling  import RandomOverSampler\n",
    "\n",
    "import warnings\n",
    "warnings.filterwarnings('ignore')"
   ]
  },
  {
   "cell_type": "markdown",
   "id": "570de52f",
   "metadata": {},
   "source": [
    "# Functions"
   ]
  },
  {
   "cell_type": "code",
   "execution_count": 2,
   "id": "0388cc10",
   "metadata": {},
   "outputs": [],
   "source": [
    "def cramer_v( x, y ):\n",
    "    cm = pd.crosstab( x, y ).to_numpy()\n",
    "    n = cm.sum()\n",
    "    r, k = cm.shape\n",
    "    \n",
    "    chi2 = stats.chi2_contingency( cm )[0]\n",
    "    chi2corr = max( 0, chi2 - (k-1)*(r-1)/(n-1) )\n",
    "    \n",
    "    kcorr = k - (k-1)**2/(n-1)\n",
    "    rcorr = r - (r-1)**2/(n-1)\n",
    "    return round(np.sqrt( (chi2corr/n) / ( min( kcorr-1, rcorr-1 ) ) ),2)"
   ]
  },
  {
   "cell_type": "markdown",
   "id": "f59095cd",
   "metadata": {},
   "source": [
    "# Load Data"
   ]
  },
  {
   "cell_type": "code",
   "execution_count": 3,
   "id": "5dd032ca",
   "metadata": {},
   "outputs": [],
   "source": [
    "df_raw = pd.read_csv('train.csv', low_memory=False)"
   ]
  },
  {
   "cell_type": "markdown",
   "id": "5f013d06",
   "metadata": {},
   "source": [
    "# Data Description"
   ]
  },
  {
   "cell_type": "code",
   "execution_count": 4,
   "id": "111eb787",
   "metadata": {},
   "outputs": [],
   "source": [
    "df1 = df_raw.copy()"
   ]
  },
  {
   "cell_type": "code",
   "execution_count": 5,
   "id": "a33fa1a1",
   "metadata": {},
   "outputs": [
    {
     "data": {
      "text/html": [
       "<div>\n",
       "<style scoped>\n",
       "    .dataframe tbody tr th:only-of-type {\n",
       "        vertical-align: middle;\n",
       "    }\n",
       "\n",
       "    .dataframe tbody tr th {\n",
       "        vertical-align: top;\n",
       "    }\n",
       "\n",
       "    .dataframe thead th {\n",
       "        text-align: right;\n",
       "    }\n",
       "</style>\n",
       "<table border=\"1\" class=\"dataframe\">\n",
       "  <thead>\n",
       "    <tr style=\"text-align: right;\">\n",
       "      <th></th>\n",
       "      <th>count</th>\n",
       "      <th>mean</th>\n",
       "      <th>std</th>\n",
       "      <th>min</th>\n",
       "      <th>25%</th>\n",
       "      <th>50%</th>\n",
       "      <th>75%</th>\n",
       "      <th>max</th>\n",
       "    </tr>\n",
       "  </thead>\n",
       "  <tbody>\n",
       "    <tr>\n",
       "      <th>id</th>\n",
       "      <td>72159.0</td>\n",
       "      <td>60093.687787</td>\n",
       "      <td>34726.028006</td>\n",
       "      <td>1.0</td>\n",
       "      <td>30013.5</td>\n",
       "      <td>60080.0</td>\n",
       "      <td>90301.0</td>\n",
       "      <td>120265.0</td>\n",
       "    </tr>\n",
       "    <tr>\n",
       "      <th>Meses da reserva até o check-in</th>\n",
       "      <td>72159.0</td>\n",
       "      <td>7.145928</td>\n",
       "      <td>25.852330</td>\n",
       "      <td>1.0</td>\n",
       "      <td>1.0</td>\n",
       "      <td>3.0</td>\n",
       "      <td>6.0</td>\n",
       "      <td>311.0</td>\n",
       "    </tr>\n",
       "    <tr>\n",
       "      <th>Número de pernoites reservadas</th>\n",
       "      <td>72159.0</td>\n",
       "      <td>15.824152</td>\n",
       "      <td>98.248479</td>\n",
       "      <td>0.0</td>\n",
       "      <td>2.0</td>\n",
       "      <td>3.0</td>\n",
       "      <td>4.0</td>\n",
       "      <td>1172.0</td>\n",
       "    </tr>\n",
       "    <tr>\n",
       "      <th>Número de hospedes</th>\n",
       "      <td>72156.0</td>\n",
       "      <td>14.258773</td>\n",
       "      <td>96.446167</td>\n",
       "      <td>0.0</td>\n",
       "      <td>2.0</td>\n",
       "      <td>2.0</td>\n",
       "      <td>2.0</td>\n",
       "      <td>1153.0</td>\n",
       "    </tr>\n",
       "    <tr>\n",
       "      <th>Reserva Cancelada</th>\n",
       "      <td>72159.0</td>\n",
       "      <td>0.370418</td>\n",
       "      <td>0.482920</td>\n",
       "      <td>0.0</td>\n",
       "      <td>0.0</td>\n",
       "      <td>0.0</td>\n",
       "      <td>1.0</td>\n",
       "      <td>1.0</td>\n",
       "    </tr>\n",
       "  </tbody>\n",
       "</table>\n",
       "</div>"
      ],
      "text/plain": [
       "                                   count          mean           std  min  \\\n",
       "id                               72159.0  60093.687787  34726.028006  1.0   \n",
       "Meses da reserva até o check-in  72159.0      7.145928     25.852330  1.0   \n",
       "Número de pernoites reservadas   72159.0     15.824152     98.248479  0.0   \n",
       "Número de hospedes               72156.0     14.258773     96.446167  0.0   \n",
       "Reserva Cancelada                72159.0      0.370418      0.482920  0.0   \n",
       "\n",
       "                                     25%      50%      75%       max  \n",
       "id                               30013.5  60080.0  90301.0  120265.0  \n",
       "Meses da reserva até o check-in      1.0      3.0      6.0     311.0  \n",
       "Número de pernoites reservadas       2.0      3.0      4.0    1172.0  \n",
       "Número de hospedes                   2.0      2.0      2.0    1153.0  \n",
       "Reserva Cancelada                    0.0      0.0      1.0       1.0  "
      ]
     },
     "execution_count": 5,
     "metadata": {},
     "output_type": "execute_result"
    }
   ],
   "source": [
    "describe = df1.describe().T\n",
    "describe"
   ]
  },
  {
   "cell_type": "code",
   "execution_count": 6,
   "id": "994a61e6",
   "metadata": {},
   "outputs": [
    {
     "data": {
      "image/png": "[encoded data removed]",
      "text/plain": [
       "<Figure size 720x720 with 6 Axes>"
      ]
     },
     "metadata": {
      "needs_background": "light"
     },
     "output_type": "display_data"
    }
   ],
   "source": [
    "plt.rcParams['figure.figsize'] = [10,10]\n",
    "num_attributes = df1.select_dtypes( include= ['float64', 'int64'] )\n",
    "num_attributes.hist( bins= 100);"
   ]
  },
  {
   "cell_type": "markdown",
   "id": "b6af8346",
   "metadata": {},
   "source": [
    "## Rename Columns"
   ]
  },
  {
   "cell_type": "code",
   "execution_count": 7,
   "id": "1c67ad16",
   "metadata": {},
   "outputs": [],
   "source": [
    "# Rename to snake case\n",
    "cols = list(map(lambda x: inflection.transliterate(inflection.underscore(x)),\n",
    "                       df1.columns))\n",
    "df1.columns = [col.replace(\" \",\"_\") for col in cols]"
   ]
  },
  {
   "cell_type": "markdown",
   "id": "a3abaf7f",
   "metadata": {},
   "source": [
    "## Data Dimension"
   ]
  },
  {
   "cell_type": "code",
   "execution_count": 8,
   "id": "6045d40e",
   "metadata": {},
   "outputs": [
    {
     "name": "stdout",
     "output_type": "stream",
     "text": [
      "Number of rows: 72159 \n",
      "Number of columns: 15\n"
     ]
    }
   ],
   "source": [
    "print(f'Number of rows: {len(df1.index)}',\n",
    "      f'\\nNumber of columns: {len(df1.columns)}')"
   ]
  },
  {
   "cell_type": "markdown",
   "id": "3708b229",
   "metadata": {},
   "source": [
    "## Data types"
   ]
  },
  {
   "cell_type": "code",
   "execution_count": 9,
   "id": "998fefe2",
   "metadata": {},
   "outputs": [
    {
     "data": {
      "text/plain": [
       "id                                        int64\n",
       "classificacao_do_hotel                   object\n",
       "meses_da_reserva_ate_o_check_in           int64\n",
       "numero_de_pernoites_reservadas            int64\n",
       "numero_de_hospedes                      float64\n",
       "regime_de_alimentacao                    object\n",
       "nacionalidade                            object\n",
       "forma_de_reserva                         object\n",
       "ja_se_hospedou_anterioremente            object\n",
       "tipo_do_quarto_reservado                 object\n",
       "reserva_feita_por_agencia_de_turismo     object\n",
       "reserva_feita_por_empresa                object\n",
       "reserva_com_estacionamento               object\n",
       "reserva_com_observacoes                  object\n",
       "reserva_cancelada                         int64\n",
       "dtype: object"
      ]
     },
     "execution_count": 9,
     "metadata": {},
     "output_type": "execute_result"
    }
   ],
   "source": [
    "df1.dtypes"
   ]
  },
  {
   "cell_type": "markdown",
   "id": "02481571",
   "metadata": {},
   "source": [
    "## Data Head"
   ]
  },
  {
   "cell_type": "code",
   "execution_count": 10,
   "id": "6883eaea",
   "metadata": {},
   "outputs": [
    {
     "data": {
      "text/html": [
       "<div>\n",
       "<style scoped>\n",
       "    .dataframe tbody tr th:only-of-type {\n",
       "        vertical-align: middle;\n",
       "    }\n",
       "\n",
       "    .dataframe tbody tr th {\n",
       "        vertical-align: top;\n",
       "    }\n",
       "\n",
       "    .dataframe thead th {\n",
       "        text-align: right;\n",
       "    }\n",
       "</style>\n",
       "<table border=\"1\" class=\"dataframe\">\n",
       "  <thead>\n",
       "    <tr style=\"text-align: right;\">\n",
       "      <th></th>\n",
       "      <th>id</th>\n",
       "      <th>classificacao_do_hotel</th>\n",
       "      <th>meses_da_reserva_ate_o_check_in</th>\n",
       "      <th>numero_de_pernoites_reservadas</th>\n",
       "      <th>numero_de_hospedes</th>\n",
       "      <th>regime_de_alimentacao</th>\n",
       "      <th>nacionalidade</th>\n",
       "      <th>forma_de_reserva</th>\n",
       "      <th>ja_se_hospedou_anterioremente</th>\n",
       "      <th>tipo_do_quarto_reservado</th>\n",
       "      <th>reserva_feita_por_agencia_de_turismo</th>\n",
       "      <th>reserva_feita_por_empresa</th>\n",
       "      <th>reserva_com_estacionamento</th>\n",
       "      <th>reserva_com_observacoes</th>\n",
       "      <th>reserva_cancelada</th>\n",
       "    </tr>\n",
       "  </thead>\n",
       "  <tbody>\n",
       "    <tr>\n",
       "      <th>0</th>\n",
       "      <td>33571</td>\n",
       "      <td>5 estrelas</td>\n",
       "      <td>5</td>\n",
       "      <td>5</td>\n",
       "      <td>2.0</td>\n",
       "      <td>Café da manha e jantar</td>\n",
       "      <td>France</td>\n",
       "      <td>Agência</td>\n",
       "      <td>Não</td>\n",
       "      <td>Amethyst</td>\n",
       "      <td>Sim</td>\n",
       "      <td>Não</td>\n",
       "      <td>Sim</td>\n",
       "      <td>Nenhuma</td>\n",
       "      <td>0</td>\n",
       "    </tr>\n",
       "    <tr>\n",
       "      <th>1</th>\n",
       "      <td>82458</td>\n",
       "      <td>4 estrelas</td>\n",
       "      <td>167</td>\n",
       "      <td>3</td>\n",
       "      <td>2.0</td>\n",
       "      <td>Café da manha</td>\n",
       "      <td>Spain</td>\n",
       "      <td>Agência</td>\n",
       "      <td>Não</td>\n",
       "      <td>Amethyst</td>\n",
       "      <td>Sim</td>\n",
       "      <td>Não</td>\n",
       "      <td>Não</td>\n",
       "      <td>Nenhuma</td>\n",
       "      <td>1</td>\n",
       "    </tr>\n",
       "    <tr>\n",
       "      <th>2</th>\n",
       "      <td>94061</td>\n",
       "      <td>4 estrelas</td>\n",
       "      <td>4</td>\n",
       "      <td>3</td>\n",
       "      <td>2.0</td>\n",
       "      <td>Café da manha</td>\n",
       "      <td>Belgium</td>\n",
       "      <td>Agência</td>\n",
       "      <td>Não</td>\n",
       "      <td>Amethyst</td>\n",
       "      <td>Sim</td>\n",
       "      <td>Não</td>\n",
       "      <td>Não</td>\n",
       "      <td>1 a 3</td>\n",
       "      <td>0</td>\n",
       "    </tr>\n",
       "    <tr>\n",
       "      <th>3</th>\n",
       "      <td>75196</td>\n",
       "      <td>4 estrelas</td>\n",
       "      <td>13</td>\n",
       "      <td>2</td>\n",
       "      <td>2.0</td>\n",
       "      <td>Café da manha</td>\n",
       "      <td>Spain</td>\n",
       "      <td>Agência</td>\n",
       "      <td>Não</td>\n",
       "      <td>Amethyst</td>\n",
       "      <td>Sim</td>\n",
       "      <td>Não</td>\n",
       "      <td>Não</td>\n",
       "      <td>Nenhuma</td>\n",
       "      <td>1</td>\n",
       "    </tr>\n",
       "    <tr>\n",
       "      <th>4</th>\n",
       "      <td>82940</td>\n",
       "      <td>4 estrelas</td>\n",
       "      <td>4</td>\n",
       "      <td>2</td>\n",
       "      <td>2.0</td>\n",
       "      <td>Café da manha</td>\n",
       "      <td>Spain</td>\n",
       "      <td>Agência</td>\n",
       "      <td>Não</td>\n",
       "      <td>Amethyst</td>\n",
       "      <td>Sim</td>\n",
       "      <td>Não</td>\n",
       "      <td>Não</td>\n",
       "      <td>Nenhuma</td>\n",
       "      <td>1</td>\n",
       "    </tr>\n",
       "  </tbody>\n",
       "</table>\n",
       "</div>"
      ],
      "text/plain": [
       "      id classificacao_do_hotel  meses_da_reserva_ate_o_check_in  \\\n",
       "0  33571             5 estrelas                                5   \n",
       "1  82458             4 estrelas                              167   \n",
       "2  94061             4 estrelas                                4   \n",
       "3  75196             4 estrelas                               13   \n",
       "4  82940             4 estrelas                                4   \n",
       "\n",
       "   numero_de_pernoites_reservadas  numero_de_hospedes   regime_de_alimentacao  \\\n",
       "0                               5                 2.0  Café da manha e jantar   \n",
       "1                               3                 2.0           Café da manha   \n",
       "2                               3                 2.0           Café da manha   \n",
       "3                               2                 2.0           Café da manha   \n",
       "4                               2                 2.0           Café da manha   \n",
       "\n",
       "  nacionalidade forma_de_reserva ja_se_hospedou_anterioremente  \\\n",
       "0        France          Agência                           Não   \n",
       "1         Spain          Agência                           Não   \n",
       "2       Belgium          Agência                           Não   \n",
       "3         Spain          Agência                           Não   \n",
       "4         Spain          Agência                           Não   \n",
       "\n",
       "  tipo_do_quarto_reservado reserva_feita_por_agencia_de_turismo  \\\n",
       "0                 Amethyst                                  Sim   \n",
       "1                 Amethyst                                  Sim   \n",
       "2                 Amethyst                                  Sim   \n",
       "3                 Amethyst                                  Sim   \n",
       "4                 Amethyst                                  Sim   \n",
       "\n",
       "  reserva_feita_por_empresa reserva_com_estacionamento  \\\n",
       "0                       Não                        Sim   \n",
       "1                       Não                        Não   \n",
       "2                       Não                        Não   \n",
       "3                       Não                        Não   \n",
       "4                       Não                        Não   \n",
       "\n",
       "  reserva_com_observacoes  reserva_cancelada  \n",
       "0                 Nenhuma                  0  \n",
       "1                 Nenhuma                  1  \n",
       "2                   1 a 3                  0  \n",
       "3                 Nenhuma                  1  \n",
       "4                 Nenhuma                  1  "
      ]
     },
     "execution_count": 10,
     "metadata": {},
     "output_type": "execute_result"
    }
   ],
   "source": [
    "df1.head()"
   ]
  },
  {
   "cell_type": "markdown",
   "id": "7db627d1",
   "metadata": {},
   "source": [
    "## Check NA"
   ]
  },
  {
   "cell_type": "code",
   "execution_count": 11,
   "id": "31193d0c",
   "metadata": {},
   "outputs": [
    {
     "data": {
      "text/plain": [
       "id                                         0\n",
       "classificacao_do_hotel                     0\n",
       "meses_da_reserva_ate_o_check_in            0\n",
       "numero_de_pernoites_reservadas             0\n",
       "numero_de_hospedes                         3\n",
       "regime_de_alimentacao                      0\n",
       "nacionalidade                           1093\n",
       "forma_de_reserva                           0\n",
       "ja_se_hospedou_anterioremente              0\n",
       "tipo_do_quarto_reservado                   0\n",
       "reserva_feita_por_agencia_de_turismo       0\n",
       "reserva_feita_por_empresa                  0\n",
       "reserva_com_estacionamento                 0\n",
       "reserva_com_observacoes                    0\n",
       "reserva_cancelada                          0\n",
       "dtype: int64"
      ]
     },
     "execution_count": 11,
     "metadata": {},
     "output_type": "execute_result"
    }
   ],
   "source": [
    "df1.isna().sum()"
   ]
  },
  {
   "cell_type": "markdown",
   "id": "fbd90892",
   "metadata": {},
   "source": [
    "## Fill and Drop NA"
   ]
  },
  {
   "cell_type": "code",
   "execution_count": 12,
   "id": "500d338d",
   "metadata": {},
   "outputs": [],
   "source": [
    "df1['nacionalidade'] = df1['nacionalidade'].apply(lambda x: 'nao_identificado' if pd.isnull(x) else x)\n",
    "df1['numero_de_hospedes'] = df1['numero_de_hospedes'].apply(lambda x: 1 if pd.isnull(x) else x)"
   ]
  },
  {
   "cell_type": "code",
   "execution_count": 13,
   "id": "74a3c90e",
   "metadata": {},
   "outputs": [
    {
     "data": {
      "text/plain": [
       "id                                      0\n",
       "classificacao_do_hotel                  0\n",
       "meses_da_reserva_ate_o_check_in         0\n",
       "numero_de_pernoites_reservadas          0\n",
       "numero_de_hospedes                      0\n",
       "regime_de_alimentacao                   0\n",
       "nacionalidade                           0\n",
       "forma_de_reserva                        0\n",
       "ja_se_hospedou_anterioremente           0\n",
       "tipo_do_quarto_reservado                0\n",
       "reserva_feita_por_agencia_de_turismo    0\n",
       "reserva_feita_por_empresa               0\n",
       "reserva_com_estacionamento              0\n",
       "reserva_com_observacoes                 0\n",
       "reserva_cancelada                       0\n",
       "dtype: int64"
      ]
     },
     "execution_count": 13,
     "metadata": {},
     "output_type": "execute_result"
    }
   ],
   "source": [
    "df1.isna().sum()"
   ]
  },
  {
   "cell_type": "markdown",
   "id": "06283ac7",
   "metadata": {},
   "source": [
    "## Change Type"
   ]
  },
  {
   "cell_type": "code",
   "execution_count": 14,
   "id": "ebcd7597",
   "metadata": {},
   "outputs": [],
   "source": [
    "df1['id'] = df1['id'].astype('int64')\n",
    "df1['numero_de_hospedes'] = df1['numero_de_hospedes'].astype('int64')"
   ]
  },
  {
   "cell_type": "markdown",
   "id": "52fb4724",
   "metadata": {},
   "source": [
    "# EDA - Exploratory Data Analysis"
   ]
  },
  {
   "cell_type": "code",
   "execution_count": 15,
   "id": "cbdf5c05",
   "metadata": {},
   "outputs": [
    {
     "data": {
      "text/html": [
       "<div>\n",
       "<style scoped>\n",
       "    .dataframe tbody tr th:only-of-type {\n",
       "        vertical-align: middle;\n",
       "    }\n",
       "\n",
       "    .dataframe tbody tr th {\n",
       "        vertical-align: top;\n",
       "    }\n",
       "\n",
       "    .dataframe thead th {\n",
       "        text-align: right;\n",
       "    }\n",
       "</style>\n",
       "<table border=\"1\" class=\"dataframe\">\n",
       "  <thead>\n",
       "    <tr style=\"text-align: right;\">\n",
       "      <th></th>\n",
       "      <th>reserva_cancelada</th>\n",
       "      <th>Total</th>\n",
       "      <th>Percent</th>\n",
       "    </tr>\n",
       "  </thead>\n",
       "  <tbody>\n",
       "    <tr>\n",
       "      <th>0</th>\n",
       "      <td>0</td>\n",
       "      <td>45430</td>\n",
       "      <td>0.629582</td>\n",
       "    </tr>\n",
       "    <tr>\n",
       "      <th>1</th>\n",
       "      <td>1</td>\n",
       "      <td>26729</td>\n",
       "      <td>0.370418</td>\n",
       "    </tr>\n",
       "  </tbody>\n",
       "</table>\n",
       "</div>"
      ],
      "text/plain": [
       "   reserva_cancelada  Total   Percent\n",
       "0                  0  45430  0.629582\n",
       "1                  1  26729  0.370418"
      ]
     },
     "execution_count": 15,
     "metadata": {},
     "output_type": "execute_result"
    }
   ],
   "source": [
    "percent = df1.groupby('reserva_cancelada')['id'].count().reset_index()\n",
    "percent['Percent'] = percent['id']/df1.shape[0]\n",
    "percent.rename(columns={'id':'Total'},inplace=True)\n",
    "percent"
   ]
  },
  {
   "cell_type": "markdown",
   "id": "84e87fba",
   "metadata": {},
   "source": [
    "## Multivariate Analysis"
   ]
  },
  {
   "cell_type": "markdown",
   "id": "6236abc0",
   "metadata": {},
   "source": [
    "### Numerical Variables"
   ]
  },
  {
   "cell_type": "code",
   "execution_count": 16,
   "id": "4791b1a3",
   "metadata": {},
   "outputs": [
    {
     "data": {
      "image/png": "[encoded data removed]",
      "text/plain": [
       "<Figure size 360x360 with 2 Axes>"
      ]
     },
     "metadata": {
      "needs_background": "light"
     },
     "output_type": "display_data"
    }
   ],
   "source": [
    "plt.rcParams['figure.figsize'] = [5,5]\n",
    "num_attributes = df1.select_dtypes(include=['int64' , 'float64'])\n",
    "corr = num_attributes.corr(method = 'pearson')\n",
    "sns.heatmap(corr, annot = True, fmt='.2f');"
   ]
  },
  {
   "cell_type": "markdown",
   "id": "105869a4",
   "metadata": {},
   "source": [
    "### Categorical Variables"
   ]
  },
  {
   "cell_type": "code",
   "execution_count": 17,
   "id": "e9314763",
   "metadata": {},
   "outputs": [
    {
     "data": {
      "image/png": "[encoded data removed]",
      "text/plain": [
       "<Figure size 576x576 with 2 Axes>"
      ]
     },
     "metadata": {
      "needs_background": "light"
     },
     "output_type": "display_data"
    }
   ],
   "source": [
    "plt.rcParams['figure.figsize'] = [8,8]\n",
    "cat_attributes = df1.select_dtypes(include='object')\n",
    "lista=[]\n",
    "for col in cat_attributes.columns:\n",
    "    lista2 =[]\n",
    "    for col2 in cat_attributes.columns:\n",
    "        lista2.append(cramer_v(cat_attributes[col], cat_attributes[col2]))\n",
    "    lista.append(lista2)\n",
    "cramer = pd.DataFrame(lista,columns=cat_attributes.columns,index=cat_attributes.columns)\n",
    "sns.heatmap(cramer,annot=True);"
   ]
  },
  {
   "cell_type": "markdown",
   "id": "e7cf68aa",
   "metadata": {},
   "source": [
    "# Data Preparation"
   ]
  },
  {
   "cell_type": "code",
   "execution_count": 18,
   "id": "a1d0ab77",
   "metadata": {},
   "outputs": [],
   "source": [
    "df5 = df1.copy()"
   ]
  },
  {
   "cell_type": "markdown",
   "id": "7137364b",
   "metadata": {},
   "source": [
    "## Rescaling"
   ]
  },
  {
   "cell_type": "code",
   "execution_count": 19,
   "id": "75a0c6d4",
   "metadata": {},
   "outputs": [],
   "source": [
    "rs = RobustScaler()\n",
    "\n",
    "# meses_da_reserva_ate_o_check-in - Robust Scaler\n",
    "df5['id'] = rs.fit_transform( df5[['id']].values )\n",
    "\n",
    "# meses_da_reserva_ate_o_check-in - Robust Scaler\n",
    "df5['meses_da_reserva_ate_o_check_in'] = rs.fit_transform( df5[['meses_da_reserva_ate_o_check_in']].values )\n",
    "\n",
    "# numero_de_pernoites_reservadas - Robust Scaler\n",
    "df5['numero_de_pernoites_reservadas'] = rs.fit_transform( df5[['numero_de_pernoites_reservadas']].values )\n",
    "\n",
    "# numero_de_hospedes - Robust Scaler\n",
    "df5['numero_de_hospedes'] = rs.fit_transform( df5[['numero_de_hospedes']].values )"
   ]
  },
  {
   "cell_type": "markdown",
   "id": "dda7e8b3",
   "metadata": {},
   "source": [
    "## Transformation"
   ]
  },
  {
   "cell_type": "code",
   "execution_count": 20,
   "id": "47732668",
   "metadata": {},
   "outputs": [],
   "source": [
    "# Label Encoder\n",
    "le = LabelEncoder()\n",
    "label_cols = ['regime_de_alimentacao', 'nacionalidade', 'forma_de_reserva',\n",
    "              'tipo_do_quarto_reservado','reserva_com_observacoes']\n",
    "for col in label_cols:\n",
    "    df5[col] = le.fit_transform(df5[col])\n",
    "\n",
    "# Ordinal Encoding\n",
    "classificacao_dict = {'5 estrelas':5, '4 estrelas':4}\n",
    "df5['classificacao_do_hotel'] = df5['classificacao_do_hotel'].map(classificacao_dict)\n",
    "\n",
    "# Boolean\n",
    "bool_cols = ['ja_se_hospedou_anterioremente', 'reserva_feita_por_agencia_de_turismo',\n",
    "             'reserva_feita_por_empresa', 'reserva_com_estacionamento']\n",
    "for col in bool_cols:\n",
    "    df5[col] = df5[col].apply(lambda x: 0 if x == 'Não' else 1 if x == 'Sim' else x)"
   ]
  },
  {
   "cell_type": "markdown",
   "id": "dcdf67e5",
   "metadata": {},
   "source": [
    "# Feature Selection"
   ]
  },
  {
   "cell_type": "code",
   "execution_count": 21,
   "id": "e74b51f8",
   "metadata": {},
   "outputs": [],
   "source": [
    "df6 = df5.copy()"
   ]
  },
  {
   "cell_type": "markdown",
   "id": "497c28ce",
   "metadata": {},
   "source": [
    "## Split Train Test Dataset"
   ]
  },
  {
   "cell_type": "code",
   "execution_count": 22,
   "id": "22cfcc91",
   "metadata": {},
   "outputs": [],
   "source": [
    "X = df6.drop(columns=['reserva_cancelada'])\n",
    "y = df6[['reserva_cancelada']]"
   ]
  },
  {
   "cell_type": "code",
   "execution_count": 23,
   "id": "e627116e",
   "metadata": {},
   "outputs": [],
   "source": [
    "# train test split\n",
    "X_train, X_test, y_train, y_test = train_test_split(X, y, test_size=0.33, random_state=42)"
   ]
  },
  {
   "cell_type": "code",
   "execution_count": 24,
   "id": "9fa3377d",
   "metadata": {},
   "outputs": [],
   "source": [
    "# criar objeto RandomOverSampler\n",
    "oversampler = RandomOverSampler(random_state=42)\n",
    "\n",
    "# realizar o upsampling na base de treino\n",
    "X_train, y_train = oversampler.fit_resample( X_train, y_train )"
   ]
  },
  {
   "cell_type": "markdown",
   "id": "6fa22749",
   "metadata": {},
   "source": [
    "## Boruta as Feature Selector"
   ]
  },
  {
   "cell_type": "code",
   "execution_count": 25,
   "id": "99865ce3",
   "metadata": {},
   "outputs": [
    {
     "name": "stdout",
     "output_type": "stream",
     "text": [
      "Iteration: \t1 / 100\n",
      "Confirmed: \t0\n",
      "Tentative: \t14\n",
      "Rejected: \t0\n",
      "Iteration: \t2 / 100\n",
      "Confirmed: \t0\n",
      "Tentative: \t14\n",
      "Rejected: \t0\n",
      "Iteration: \t3 / 100\n",
      "Confirmed: \t0\n",
      "Tentative: \t14\n",
      "Rejected: \t0\n",
      "Iteration: \t4 / 100\n",
      "Confirmed: \t0\n",
      "Tentative: \t14\n",
      "Rejected: \t0\n",
      "Iteration: \t5 / 100\n",
      "Confirmed: \t0\n",
      "Tentative: \t14\n",
      "Rejected: \t0\n",
      "Iteration: \t6 / 100\n",
      "Confirmed: \t0\n",
      "Tentative: \t14\n",
      "Rejected: \t0\n",
      "Iteration: \t7 / 100\n",
      "Confirmed: \t0\n",
      "Tentative: \t14\n",
      "Rejected: \t0\n",
      "Iteration: \t8 / 100\n",
      "Confirmed: \t6\n",
      "Tentative: \t1\n",
      "Rejected: \t7\n",
      "Iteration: \t9 / 100\n",
      "Confirmed: \t6\n",
      "Tentative: \t1\n",
      "Rejected: \t7\n",
      "Iteration: \t10 / 100\n",
      "Confirmed: \t6\n",
      "Tentative: \t1\n",
      "Rejected: \t7\n",
      "Iteration: \t11 / 100\n",
      "Confirmed: \t6\n",
      "Tentative: \t1\n",
      "Rejected: \t7\n",
      "Iteration: \t12 / 100\n",
      "Confirmed: \t6\n",
      "Tentative: \t0\n",
      "Rejected: \t8\n",
      "\n",
      "\n",
      "BorutaPy finished running.\n",
      "\n",
      "Iteration: \t13 / 100\n",
      "Confirmed: \t6\n",
      "Tentative: \t0\n",
      "Rejected: \t8\n"
     ]
    }
   ],
   "source": [
    "# define RandomForestRegressor\n",
    "clf = RandomForestClassifier(n_estimators=100, n_jobs=-1)\n",
    "\n",
    "# define Boruta\n",
    "boruta = BorutaPy(clf, n_estimators='auto',verbose=2,random_state=0).fit(X_train.values, y_train.values)"
   ]
  },
  {
   "cell_type": "markdown",
   "id": "90927e95",
   "metadata": {},
   "source": [
    "## Best Features from Boruta"
   ]
  },
  {
   "cell_type": "code",
   "execution_count": 26,
   "id": "0e3bf7e2",
   "metadata": {},
   "outputs": [],
   "source": [
    "cols_selected_boruta = boruta.support_.tolist()\n",
    "cols_selected_boruta = X_train.iloc[:,cols_selected_boruta].columns.tolist()"
   ]
  },
  {
   "cell_type": "markdown",
   "id": "14002cfd",
   "metadata": {},
   "source": [
    "## Manual Features"
   ]
  },
  {
   "cell_type": "code",
   "execution_count": 27,
   "id": "69042465",
   "metadata": {},
   "outputs": [
    {
     "data": {
      "text/plain": [
       "['id',\n",
       " 'classificacao_do_hotel',\n",
       " 'meses_da_reserva_ate_o_check_in',\n",
       " 'nacionalidade',\n",
       " 'reserva_com_estacionamento',\n",
       " 'reserva_com_observacoes']"
      ]
     },
     "execution_count": 27,
     "metadata": {},
     "output_type": "execute_result"
    }
   ],
   "source": [
    "cols_selected_boruta"
   ]
  },
  {
   "cell_type": "code",
   "execution_count": 28,
   "id": "98e9a5bb",
   "metadata": {},
   "outputs": [],
   "source": [
    "#cols_selected_boruta = ['id',\n",
    "#                        'classificacao_do_hotel',\n",
    "#                        'meses_da_reserva_ate_o_check_in',\n",
    "#                        'nacionalidade',\n",
    "#                        'reserva_com_estacionamento',\n",
    "#                        'reserva_com_observacoes']"
   ]
  },
  {
   "cell_type": "markdown",
   "id": "755c9c1b",
   "metadata": {},
   "source": [
    "# Machine Learning Modelling"
   ]
  },
  {
   "cell_type": "code",
   "execution_count": 29,
   "id": "7fe0e5d8",
   "metadata": {},
   "outputs": [],
   "source": [
    "#x_train = X_train[cols_selected_boruta]\n",
    "#x_test  = X_test[cols_selected_boruta]\n",
    "\n",
    "x_train = X_train.copy()\n",
    "x_test  = X_test.copy()"
   ]
  },
  {
   "cell_type": "markdown",
   "id": "d0443a70",
   "metadata": {},
   "source": [
    "## KNN"
   ]
  },
  {
   "cell_type": "code",
   "execution_count": 30,
   "id": "42e7da41",
   "metadata": {},
   "outputs": [
    {
     "name": "stdout",
     "output_type": "stream",
     "text": [
      "K = 4\n",
      "F-Score = 85.46%\n"
     ]
    }
   ],
   "source": [
    "# model definition\n",
    "result_list = []\n",
    "\n",
    "# Choose k number\n",
    "for k in range(3, 15):\n",
    "\n",
    "    knn_model = KNeighborsClassifier( n_neighbors= k )\n",
    "\n",
    "    # model training\n",
    "    knn_model.fit( x_train, y_train )\n",
    "\n",
    "    # model classifier\n",
    "    y_pred = knn_model.predict( x_test )\n",
    "    \n",
    "    # performance\n",
    "    f_score_knn = f1_score( y_test, y_pred, average= 'macro')\n",
    "    \n",
    "    result_list.append( {\"k\":k,\"f_score\":f_score_knn} )\n",
    "    \n",
    "# K with highest score\n",
    "k = max(result_list, key=lambda x: x['f_score'])['k']\n",
    "f_score_knn = max(result_list, key=lambda x: x['f_score'])['f_score']\n",
    "print(f\"K = {k}\\nF-Score = {f_score_knn:.2%}\")"
   ]
  },
  {
   "cell_type": "markdown",
   "id": "4f7a5b73",
   "metadata": {},
   "source": [
    "## Logistic Regression"
   ]
  },
  {
   "cell_type": "code",
   "execution_count": 31,
   "id": "9780b34e",
   "metadata": {},
   "outputs": [],
   "source": [
    "# model definition\n",
    "lr_model = LogisticRegression()\n",
    "\n",
    "# model training\n",
    "lr_model.fit( x_train, y_train )\n",
    "\n",
    "# model classifier\n",
    "y_pred_lr = lr_model.predict(x_test)"
   ]
  },
  {
   "cell_type": "code",
   "execution_count": 32,
   "id": "01bb7725",
   "metadata": {},
   "outputs": [
    {
     "name": "stdout",
     "output_type": "stream",
     "text": [
      "F-score knn: 72.81%\n"
     ]
    }
   ],
   "source": [
    "# performance\n",
    "f_score_lr = f1_score( y_test, y_pred_lr, average= 'macro')\n",
    "print( f'F-score knn: {f_score_lr:.2%}' )"
   ]
  },
  {
   "cell_type": "markdown",
   "id": "05d225c4",
   "metadata": {},
   "source": [
    "## Random Forest"
   ]
  },
  {
   "cell_type": "code",
   "execution_count": 33,
   "id": "a0913ba0",
   "metadata": {},
   "outputs": [],
   "source": [
    "# model definition\n",
    "rf_model = RandomForestClassifier( n_estimators=100, n_jobs=-1, random_state= 42)\n",
    "\n",
    "# model training\n",
    "rf_model.fit( x_train, y_train )\n",
    "\n",
    "# model classifier\n",
    "y_pred_rf = rf_model.predict(x_test)"
   ]
  },
  {
   "cell_type": "code",
   "execution_count": 34,
   "id": "5c04e57c",
   "metadata": {},
   "outputs": [
    {
     "name": "stdout",
     "output_type": "stream",
     "text": [
      "F-score Random Forest: 96.76%\n"
     ]
    }
   ],
   "source": [
    "# performance\n",
    "f_score_rf = f1_score( y_test, y_pred_rf, average= 'macro')\n",
    "\n",
    "print( f'F-score Random Forest: {f_score_rf:.2%}' )"
   ]
  },
  {
   "cell_type": "markdown",
   "id": "88060009",
   "metadata": {},
   "source": [
    "## XGBoost"
   ]
  },
  {
   "cell_type": "code",
   "execution_count": 35,
   "id": "c93ba6e2",
   "metadata": {},
   "outputs": [],
   "source": [
    "# model definition\n",
    "xgb_model = GradientBoostingClassifier( n_estimators= 1500, max_depth=10, subsample= 0.8)\n",
    "\n",
    "# model training\n",
    "xgb_model.fit( x_train, y_train )\n",
    "\n",
    "# model classifier\n",
    "y_pred_xgb = xgb_model.predict(x_test)"
   ]
  },
  {
   "cell_type": "code",
   "execution_count": 36,
   "id": "a8dd5023",
   "metadata": {},
   "outputs": [
    {
     "name": "stdout",
     "output_type": "stream",
     "text": [
      "F-score XGBoost: 96.86%\n"
     ]
    }
   ],
   "source": [
    "# performance\n",
    "f_score_xgb = f1_score( y_test, y_pred_xgb, average= 'macro')\n",
    "\n",
    "print( f'F-score XGBoost: {f_score_xgb:.2%}' )"
   ]
  },
  {
   "cell_type": "markdown",
   "id": "f167b311",
   "metadata": {},
   "source": [
    "## Categorical Boost (Cat Boost)"
   ]
  },
  {
   "cell_type": "code",
   "execution_count": 37,
   "id": "573deff4",
   "metadata": {},
   "outputs": [],
   "source": [
    "# model definition\n",
    "cat_model = CatBoostClassifier( iterations = 1000, learning_rate= 0.2)\n",
    "\n",
    "# model training\n",
    "cat_model.fit( x_train, y_train, verbose = False)\n",
    "\n",
    "\n",
    "# model classifier\n",
    "y_pred_cat = cat_model.predict(x_test)"
   ]
  },
  {
   "cell_type": "code",
   "execution_count": 38,
   "id": "df2c0a12",
   "metadata": {},
   "outputs": [
    {
     "name": "stdout",
     "output_type": "stream",
     "text": [
      "F-score CatBoost: 96.52%\n"
     ]
    }
   ],
   "source": [
    "# performance\n",
    "f_score_cat = f1_score( y_test, y_pred_cat, average= 'macro')\n",
    "\n",
    "print( f'F-score CatBoost: {f_score_cat:.2%}' )"
   ]
  },
  {
   "cell_type": "markdown",
   "id": "b27e62fc",
   "metadata": {},
   "source": [
    "## Naive Bayes"
   ]
  },
  {
   "cell_type": "code",
   "execution_count": 39,
   "id": "4fc625f7",
   "metadata": {},
   "outputs": [],
   "source": [
    "# model definition\n",
    "nb_model = GaussianNB()\n",
    "\n",
    "# model training\n",
    "nb_model.fit( x_train, y_train)\n",
    "\n",
    "# model classifier\n",
    "y_pred_nb = nb_model.predict(x_test)"
   ]
  },
  {
   "cell_type": "code",
   "execution_count": 40,
   "id": "37e53d1f",
   "metadata": {},
   "outputs": [
    {
     "name": "stdout",
     "output_type": "stream",
     "text": [
      "F-score Naive Bayes: 48.12%\n"
     ]
    }
   ],
   "source": [
    "# performance\n",
    "f_score_nb = f1_score( y_test, y_pred_nb, average= 'macro')\n",
    "\n",
    "print( f'F-score Naive Bayes: {f_score_nb:.2%}' )"
   ]
  },
  {
   "cell_type": "markdown",
   "id": "2e346c65",
   "metadata": {},
   "source": [
    "## Decision Tree"
   ]
  },
  {
   "cell_type": "code",
   "execution_count": 41,
   "id": "ac1b1d02",
   "metadata": {},
   "outputs": [],
   "source": [
    "# Crie uma instância do classificador de árvore de decisão\n",
    "clf = tree.DecisionTreeClassifier()\n",
    "\n",
    "# Treine o classificador usando os dados de treinamento\n",
    "clf.fit(x_train, y_train)\n",
    "\n",
    "# Faça previsões usando o conjunto de teste\n",
    "y_pred_clf = clf.predict(x_test)"
   ]
  },
  {
   "cell_type": "code",
   "execution_count": 42,
   "id": "7031cdd4",
   "metadata": {},
   "outputs": [
    {
     "name": "stdout",
     "output_type": "stream",
     "text": [
      "F-score Decision Tree: 96.19%\n"
     ]
    }
   ],
   "source": [
    "# performance\n",
    "f_score_clf = f1_score( y_test, y_pred_clf, average= 'macro')\n",
    "\n",
    "print( f'F-score Decision Tree: {f_score_clf:.2%}' )"
   ]
  },
  {
   "cell_type": "markdown",
   "id": "bda24883",
   "metadata": {},
   "source": [
    "# XGBoost Hyperparameter Fine Tuning"
   ]
  },
  {
   "cell_type": "code",
   "execution_count": 43,
   "id": "75e7cdaa",
   "metadata": {},
   "outputs": [
    {
     "name": "stdout",
     "output_type": "stream",
     "text": [
      "Start: 29-03-2023 21:33:36\n"
     ]
    }
   ],
   "source": [
    "t_start = time.time()\n",
    "print('Start:',datetime.datetime.now().strftime('%d-%m-%Y %H:%M:%S'))"
   ]
  },
  {
   "cell_type": "code",
   "execution_count": 44,
   "id": "26c36de5",
   "metadata": {},
   "outputs": [
    {
     "name": "stdout",
     "output_type": "stream",
     "text": [
      "Best hyperparameter: {'subsample': 0.3, 'n_estimators': 500, 'max_depth': 10, 'learning_rate': 0.05}\n",
      "Best F-score (macro): 97.05%\n"
     ]
    }
   ],
   "source": [
    "param = {'learning_rate': [0.01, 0.05, 0.1, 0.2],\n",
    "         'max_depth': [3, 4, 5, 10],\n",
    "         'n_estimators': [100, 500, 1000, 1500],\n",
    "         'subsample':[0.1,0.3,0.8,1.0]}\n",
    "# Calculate weights\n",
    "\n",
    "# y array of weights\n",
    "sample_weights = compute_sample_weight(class_weight='balanced', y=y)\n",
    "\n",
    "# dict of weights\n",
    "n_classes = len(np.unique(y))\n",
    "weight_0  = len(y) / (n_classes * y.value_counts()[0])\n",
    "weight_1  = len(y) / (n_classes * y.value_counts()[1])\n",
    "class_weights = {0:weight_0,1:weight_1}\n",
    "\n",
    "# use RandomizedSearchCV to find the best hyperparameter combination.\n",
    "random_search = RandomizedSearchCV(GradientBoostingClassifier(),\n",
    "                                   param_distributions=param,\n",
    "                                   cv=5,\n",
    "                                   n_iter=30,\n",
    "                                   scoring='f1_macro',\n",
    "                                   random_state=42,\n",
    "                                   n_jobs=-1)\n",
    "random_search.fit(X.values, y.values, sample_weight=sample_weights)\n",
    "\n",
    "# print the best hyperparameter combination and its F-score (macro).\n",
    "print(\"Best hyperparameter:\", random_search.best_params_)\n",
    "print(f\"Best F-score (macro): {random_search.best_score_:.2%}\")"
   ]
  },
  {
   "cell_type": "code",
   "execution_count": 45,
   "id": "ac27e1fa",
   "metadata": {},
   "outputs": [
    {
     "name": "stdout",
     "output_type": "stream",
     "text": [
      "End: 29-03-2023 23:38:42\n",
      "Fine tuning execution time: 02:05:05\n"
     ]
    }
   ],
   "source": [
    "duration = time.time()-t_start\n",
    "h = '{:02d}'.format(int(duration//3600))\n",
    "m = '{:02d}'.format(int((duration%3600)//60))\n",
    "s = '{:02d}'.format(int(duration%60))\n",
    "\n",
    "print('End:',datetime.datetime.now().strftime('%d-%m-%Y %H:%M:%S'))\n",
    "print(f'Fine tuning execution time: {h}:{m}:{s}')"
   ]
  },
  {
   "cell_type": "markdown",
   "id": "f10a92b3",
   "metadata": {},
   "source": [
    "# Final Model"
   ]
  },
  {
   "cell_type": "code",
   "execution_count": 46,
   "id": "ab37e3d2",
   "metadata": {},
   "outputs": [
    {
     "data": {
      "text/plain": [
       "GradientBoostingClassifier(learning_rate=0.05, max_depth=10, n_estimators=500,\n",
       "                           random_state=42, subsample=0.3)"
      ]
     },
     "execution_count": 46,
     "metadata": {},
     "output_type": "execute_result"
    }
   ],
   "source": [
    "param = random_search.best_params_\n",
    "\n",
    "# model definition\n",
    "xgb_model = GradientBoostingClassifier(subsample     = param['subsample'],\n",
    "                                       n_estimators  = param['n_estimators'],\n",
    "                                       max_depth     = param['max_depth'],\n",
    "                                       learning_rate = param['learning_rate'],\n",
    "                                       random_state=42)\n",
    "\n",
    "# model training\n",
    "xgb_model.fit(X.values, y.values, sample_weight=sample_weights)\n",
    "#xgb_model.fit( x_train, y_train )"
   ]
  },
  {
   "cell_type": "markdown",
   "id": "c3e53924",
   "metadata": {},
   "source": [
    "# Predict Kaggle Submission Data"
   ]
  },
  {
   "cell_type": "code",
   "execution_count": 47,
   "id": "8b9f069b",
   "metadata": {},
   "outputs": [],
   "source": [
    "test   = pd.read_csv('test.csv', low_memory=False)\n",
    "_id = test['id']"
   ]
  },
  {
   "cell_type": "markdown",
   "id": "fccac677",
   "metadata": {},
   "source": [
    "## Rename Columns"
   ]
  },
  {
   "cell_type": "code",
   "execution_count": 48,
   "id": "3804a7cd",
   "metadata": {},
   "outputs": [],
   "source": [
    "# Rename to snake case\n",
    "cols = list(map(lambda x: inflection.transliterate(inflection.underscore(x)),\n",
    "                       test.columns))\n",
    "test.columns = [col.replace(\" \",\"_\") for col in cols]"
   ]
  },
  {
   "cell_type": "markdown",
   "id": "94314134",
   "metadata": {},
   "source": [
    "## Fill NA"
   ]
  },
  {
   "cell_type": "code",
   "execution_count": 49,
   "id": "42723077",
   "metadata": {},
   "outputs": [],
   "source": [
    "test['nacionalidade']      = test['nacionalidade'].apply(lambda x: 'nao_identificado' if pd.isnull(x) else x)\n",
    "test['numero_de_hospedes'] = test['numero_de_hospedes'].apply(lambda x: 1 if pd.isnull(x) else x)\n",
    "test['numero_de_hospedes'] = test['numero_de_hospedes'].astype('int64')"
   ]
  },
  {
   "cell_type": "markdown",
   "id": "0ca355a5",
   "metadata": {},
   "source": [
    "## Change type"
   ]
  },
  {
   "cell_type": "code",
   "execution_count": 50,
   "id": "898f9ded",
   "metadata": {},
   "outputs": [],
   "source": [
    "test['id'] = test['id'].astype('int64')\n",
    "test['numero_de_hospedes'] = test['numero_de_hospedes'].astype('int64')"
   ]
  },
  {
   "cell_type": "markdown",
   "id": "e08dd70c",
   "metadata": {},
   "source": [
    "## Rescaling"
   ]
  },
  {
   "cell_type": "code",
   "execution_count": 51,
   "id": "e388c4b5",
   "metadata": {},
   "outputs": [],
   "source": [
    "rs = RobustScaler()\n",
    "\n",
    "# meses_da_reserva_ate_o_check-in - Robust Scaler\n",
    "test['id'] = rs.fit_transform( test[['id']].values )\n",
    "\n",
    "# meses_da_reserva_ate_o_check-in - Robust Scaler\n",
    "test['meses_da_reserva_ate_o_check_in'] = rs.fit_transform( test[['meses_da_reserva_ate_o_check_in']].values )\n",
    "\n",
    "# numero_de_pernoites_reservadas - Robust Scaler\n",
    "test['numero_de_pernoites_reservadas'] = rs.fit_transform( test[['numero_de_pernoites_reservadas']].values )\n",
    "\n",
    "# numero_de_hospedes - Robust Scaler\n",
    "test['numero_de_hospedes'] = rs.fit_transform( test[['numero_de_hospedes']].values )"
   ]
  },
  {
   "cell_type": "markdown",
   "id": "de9dc9df",
   "metadata": {},
   "source": [
    "## Transformation"
   ]
  },
  {
   "cell_type": "code",
   "execution_count": 52,
   "id": "d627b9e1",
   "metadata": {},
   "outputs": [],
   "source": [
    "# Label Encoder\n",
    "le = LabelEncoder()\n",
    "label_cols = ['regime_de_alimentacao', 'nacionalidade', 'forma_de_reserva',\n",
    "              'tipo_do_quarto_reservado','reserva_com_observacoes']\n",
    "for col in label_cols:\n",
    "    test[col] = le.fit_transform(test[col])\n",
    "\n",
    "# Ordinal Encoding\n",
    "classificacao_dict = {'5 estrelas':5, '4 estrelas':4}\n",
    "test['classificacao_do_hotel'] = test['classificacao_do_hotel'].map(classificacao_dict)\n",
    "\n",
    "# Boolean\n",
    "bool_cols = ['ja_se_hospedou_anterioremente', 'reserva_feita_por_agencia_de_turismo',\n",
    "             'reserva_feita_por_empresa', 'reserva_com_estacionamento']\n",
    "for col in bool_cols:\n",
    "    test[col] = test[col].apply(lambda x: 0 if x == 'Não' else 1 if x == 'Sim' else x)"
   ]
  },
  {
   "cell_type": "markdown",
   "id": "42a871f0",
   "metadata": {},
   "source": [
    "## Predict"
   ]
  },
  {
   "cell_type": "code",
   "execution_count": 53,
   "id": "cdf10ac8",
   "metadata": {},
   "outputs": [],
   "source": [
    "y_pred_test = xgb_model.predict(test.values)\n",
    "submission = pd.concat([_id, pd.Series(y_pred_test, name = 'Reserva Cancelada')], axis=1)"
   ]
  },
  {
   "cell_type": "markdown",
   "id": "39707119",
   "metadata": {},
   "source": [
    "## Create submission file"
   ]
  },
  {
   "cell_type": "code",
   "execution_count": 54,
   "id": "857383ec",
   "metadata": {},
   "outputs": [],
   "source": [
    "submission.to_csv('submission.csv', index=False )"
   ]
  },
  {
   "cell_type": "code",
   "execution_count": 55,
   "id": "4c7334b5",
   "metadata": {},
   "outputs": [
    {
     "data": {
      "text/html": [
       "<div>\n",
       "<style scoped>\n",
       "    .dataframe tbody tr th:only-of-type {\n",
       "        vertical-align: middle;\n",
       "    }\n",
       "\n",
       "    .dataframe tbody tr th {\n",
       "        vertical-align: top;\n",
       "    }\n",
       "\n",
       "    .dataframe thead th {\n",
       "        text-align: right;\n",
       "    }\n",
       "</style>\n",
       "<table border=\"1\" class=\"dataframe\">\n",
       "  <thead>\n",
       "    <tr style=\"text-align: right;\">\n",
       "      <th></th>\n",
       "      <th>Reserva Cancelada</th>\n",
       "      <th>Total</th>\n",
       "      <th>Percent</th>\n",
       "    </tr>\n",
       "  </thead>\n",
       "  <tbody>\n",
       "    <tr>\n",
       "      <th>0</th>\n",
       "      <td>0</td>\n",
       "      <td>33065</td>\n",
       "      <td>0.687336</td>\n",
       "    </tr>\n",
       "    <tr>\n",
       "      <th>1</th>\n",
       "      <td>1</td>\n",
       "      <td>15041</td>\n",
       "      <td>0.312664</td>\n",
       "    </tr>\n",
       "  </tbody>\n",
       "</table>\n",
       "</div>"
      ],
      "text/plain": [
       "   Reserva Cancelada  Total   Percent\n",
       "0                  0  33065  0.687336\n",
       "1                  1  15041  0.312664"
      ]
     },
     "execution_count": 55,
     "metadata": {},
     "output_type": "execute_result"
    }
   ],
   "source": [
    "percent2 = submission.groupby('Reserva Cancelada')['id'].count().reset_index()\n",
    "percent2['Percent'] = percent2['id']/submission.shape[0]\n",
    "percent2.rename(columns={'id':'Total'},inplace=True)\n",
    "percent2"
   ]
  }
 ],
 "metadata": {
  "kernelspec": {
   "display_name": "Python 3 (ipykernel)",
   "language": "python",
   "name": "python3"
  },
  "language_info": {
   "codemirror_mode": {
    "name": "ipython",
    "version": 3
   },
   "file_extension": ".py",
   "mimetype": "text/x-python",
   "name": "python",
   "nbconvert_exporter": "python",
   "pygments_lexer": "ipython3",
   "version": "3.8.8"
  },
  "latex_envs": {
   "LaTeX_envs_menu_present": true,
   "autoclose": false,
   "autocomplete": true,
   "bibliofile": "biblio.bib",
   "cite_by": "apalike",
   "current_citInitial": 1,
   "eqLabelWithNumbers": true,
   "eqNumInitial": 1,
   "hotkeys": {
    "equation": "Ctrl-E",
    "itemize": "Ctrl-I"
   },
   "labels_anchors": false,
   "latex_user_defs": false,
   "report_style_numbering": false,
   "user_envs_cfg": false
  }
 },
 "nbformat": 4,
 "nbformat_minor": 5
}
